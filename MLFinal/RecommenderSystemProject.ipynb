{
 "cells": [
  {
   "cell_type": "code",
   "execution_count": 1,
   "metadata": {
    "collapsed": true
   },
   "outputs": [],
   "source": [
    "# Recommender System on Movie data set same dataset as Matlab Coursera Andrew Ng Course\n",
    "\n",
    "# importing packages\n",
    "import numpy as np\n",
    "import pandas as pd"
   ]
  },
  {
   "cell_type": "code",
   "execution_count": 2,
   "metadata": {
    "collapsed": true
   },
   "outputs": [],
   "source": [
    "# Data Wrangling\n",
    "header = ['user_id', 'item_id', 'rating', 'timestamp']\n",
    "df = pd.read_csv('C:/Users/hp/Documents/JupyterDemo/ml-100k/u.data', sep ='\\t', names = header)"
   ]
  },
  {
   "cell_type": "code",
   "execution_count": 3,
   "metadata": {},
   "outputs": [
    {
     "data": {
      "text/html": [
       "<div>\n",
       "<style scoped>\n",
       "    .dataframe tbody tr th:only-of-type {\n",
       "        vertical-align: middle;\n",
       "    }\n",
       "\n",
       "    .dataframe tbody tr th {\n",
       "        vertical-align: top;\n",
       "    }\n",
       "\n",
       "    .dataframe thead th {\n",
       "        text-align: right;\n",
       "    }\n",
       "</style>\n",
       "<table border=\"1\" class=\"dataframe\">\n",
       "  <thead>\n",
       "    <tr style=\"text-align: right;\">\n",
       "      <th></th>\n",
       "      <th>user_id</th>\n",
       "      <th>item_id</th>\n",
       "      <th>rating</th>\n",
       "      <th>timestamp</th>\n",
       "    </tr>\n",
       "  </thead>\n",
       "  <tbody>\n",
       "    <tr>\n",
       "      <th>0</th>\n",
       "      <td>196</td>\n",
       "      <td>242</td>\n",
       "      <td>3</td>\n",
       "      <td>881250949</td>\n",
       "    </tr>\n",
       "    <tr>\n",
       "      <th>1</th>\n",
       "      <td>186</td>\n",
       "      <td>302</td>\n",
       "      <td>3</td>\n",
       "      <td>891717742</td>\n",
       "    </tr>\n",
       "    <tr>\n",
       "      <th>2</th>\n",
       "      <td>22</td>\n",
       "      <td>377</td>\n",
       "      <td>1</td>\n",
       "      <td>878887116</td>\n",
       "    </tr>\n",
       "    <tr>\n",
       "      <th>3</th>\n",
       "      <td>244</td>\n",
       "      <td>51</td>\n",
       "      <td>2</td>\n",
       "      <td>880606923</td>\n",
       "    </tr>\n",
       "    <tr>\n",
       "      <th>4</th>\n",
       "      <td>166</td>\n",
       "      <td>346</td>\n",
       "      <td>1</td>\n",
       "      <td>886397596</td>\n",
       "    </tr>\n",
       "  </tbody>\n",
       "</table>\n",
       "</div>"
      ],
      "text/plain": [
       "   user_id  item_id  rating  timestamp\n",
       "0      196      242       3  881250949\n",
       "1      186      302       3  891717742\n",
       "2       22      377       1  878887116\n",
       "3      244       51       2  880606923\n",
       "4      166      346       1  886397596"
      ]
     },
     "execution_count": 3,
     "metadata": {},
     "output_type": "execute_result"
    }
   ],
   "source": [
    "# looking at data\n",
    "df.head()"
   ]
  },
  {
   "cell_type": "code",
   "execution_count": 4,
   "metadata": {},
   "outputs": [
    {
     "name": "stdout",
     "output_type": "stream",
     "text": [
      "Number of Users = 943 | Number of movies = 1682\n"
     ]
    }
   ],
   "source": [
    "# No. of users and items\n",
    "n_users = df.user_id.unique().shape[0]\n",
    "n_items = df.item_id.unique().shape[0]\n",
    "print('Number of Users = ' + str(n_users) + ' | Number of movies = ' + str(n_items))"
   ]
  },
  {
   "cell_type": "code",
   "execution_count": 5,
   "metadata": {
    "collapsed": true
   },
   "outputs": [],
   "source": [
    "# Splitting the Data\n",
    "from sklearn import model_selection\n",
    "train_data, test_data = model_selection.train_test_split(df, test_size = 0.25)"
   ]
  },
  {
   "cell_type": "code",
   "execution_count": 6,
   "metadata": {},
   "outputs": [
    {
     "data": {
      "text/html": [
       "<div>\n",
       "<style scoped>\n",
       "    .dataframe tbody tr th:only-of-type {\n",
       "        vertical-align: middle;\n",
       "    }\n",
       "\n",
       "    .dataframe tbody tr th {\n",
       "        vertical-align: top;\n",
       "    }\n",
       "\n",
       "    .dataframe thead th {\n",
       "        text-align: right;\n",
       "    }\n",
       "</style>\n",
       "<table border=\"1\" class=\"dataframe\">\n",
       "  <thead>\n",
       "    <tr style=\"text-align: right;\">\n",
       "      <th></th>\n",
       "      <th>user_id</th>\n",
       "      <th>item_id</th>\n",
       "      <th>rating</th>\n",
       "      <th>timestamp</th>\n",
       "    </tr>\n",
       "  </thead>\n",
       "  <tbody>\n",
       "    <tr>\n",
       "      <th>85138</th>\n",
       "      <td>254</td>\n",
       "      <td>143</td>\n",
       "      <td>4</td>\n",
       "      <td>886472643</td>\n",
       "    </tr>\n",
       "    <tr>\n",
       "      <th>77845</th>\n",
       "      <td>766</td>\n",
       "      <td>630</td>\n",
       "      <td>3</td>\n",
       "      <td>891310772</td>\n",
       "    </tr>\n",
       "    <tr>\n",
       "      <th>96964</th>\n",
       "      <td>908</td>\n",
       "      <td>264</td>\n",
       "      <td>3</td>\n",
       "      <td>879722206</td>\n",
       "    </tr>\n",
       "    <tr>\n",
       "      <th>34072</th>\n",
       "      <td>551</td>\n",
       "      <td>1267</td>\n",
       "      <td>4</td>\n",
       "      <td>892783906</td>\n",
       "    </tr>\n",
       "    <tr>\n",
       "      <th>85605</th>\n",
       "      <td>782</td>\n",
       "      <td>181</td>\n",
       "      <td>3</td>\n",
       "      <td>891499213</td>\n",
       "    </tr>\n",
       "  </tbody>\n",
       "</table>\n",
       "</div>"
      ],
      "text/plain": [
       "       user_id  item_id  rating  timestamp\n",
       "85138      254      143       4  886472643\n",
       "77845      766      630       3  891310772\n",
       "96964      908      264       3  879722206\n",
       "34072      551     1267       4  892783906\n",
       "85605      782      181       3  891499213"
      ]
     },
     "execution_count": 6,
     "metadata": {},
     "output_type": "execute_result"
    }
   ],
   "source": [
    "train_data.head()"
   ]
  },
  {
   "cell_type": "code",
   "execution_count": 7,
   "metadata": {},
   "outputs": [
    {
     "data": {
      "text/html": [
       "<div>\n",
       "<style scoped>\n",
       "    .dataframe tbody tr th:only-of-type {\n",
       "        vertical-align: middle;\n",
       "    }\n",
       "\n",
       "    .dataframe tbody tr th {\n",
       "        vertical-align: top;\n",
       "    }\n",
       "\n",
       "    .dataframe thead th {\n",
       "        text-align: right;\n",
       "    }\n",
       "</style>\n",
       "<table border=\"1\" class=\"dataframe\">\n",
       "  <thead>\n",
       "    <tr style=\"text-align: right;\">\n",
       "      <th></th>\n",
       "      <th>user_id</th>\n",
       "      <th>item_id</th>\n",
       "      <th>rating</th>\n",
       "      <th>timestamp</th>\n",
       "    </tr>\n",
       "  </thead>\n",
       "  <tbody>\n",
       "    <tr>\n",
       "      <th>58435</th>\n",
       "      <td>658</td>\n",
       "      <td>488</td>\n",
       "      <td>4</td>\n",
       "      <td>875148196</td>\n",
       "    </tr>\n",
       "    <tr>\n",
       "      <th>58102</th>\n",
       "      <td>197</td>\n",
       "      <td>4</td>\n",
       "      <td>3</td>\n",
       "      <td>891409981</td>\n",
       "    </tr>\n",
       "    <tr>\n",
       "      <th>35872</th>\n",
       "      <td>496</td>\n",
       "      <td>774</td>\n",
       "      <td>5</td>\n",
       "      <td>876066424</td>\n",
       "    </tr>\n",
       "    <tr>\n",
       "      <th>94476</th>\n",
       "      <td>299</td>\n",
       "      <td>114</td>\n",
       "      <td>4</td>\n",
       "      <td>878191943</td>\n",
       "    </tr>\n",
       "    <tr>\n",
       "      <th>72977</th>\n",
       "      <td>860</td>\n",
       "      <td>286</td>\n",
       "      <td>4</td>\n",
       "      <td>874967063</td>\n",
       "    </tr>\n",
       "    <tr>\n",
       "      <th>69696</th>\n",
       "      <td>804</td>\n",
       "      <td>89</td>\n",
       "      <td>4</td>\n",
       "      <td>879441524</td>\n",
       "    </tr>\n",
       "  </tbody>\n",
       "</table>\n",
       "</div>"
      ],
      "text/plain": [
       "       user_id  item_id  rating  timestamp\n",
       "58435      658      488       4  875148196\n",
       "58102      197        4       3  891409981\n",
       "35872      496      774       5  876066424\n",
       "94476      299      114       4  878191943\n",
       "72977      860      286       4  874967063\n",
       "69696      804       89       4  879441524"
      ]
     },
     "execution_count": 7,
     "metadata": {},
     "output_type": "execute_result"
    }
   ],
   "source": [
    "test_data.tail(6)"
   ]
  },
  {
   "cell_type": "code",
   "execution_count": 8,
   "metadata": {
    "collapsed": true
   },
   "outputs": [],
   "source": [
    "# Creating User-Item Matrices, one for Training and other for testing\n",
    "\n",
    "# intantiating training data matrix with 0 value\n",
    "train_data_matrix = np.zeros((n_users, n_items))\n",
    "# iterating through the train data matrix and inputting rating\n",
    "for each_line in train_data.itertuples():\n",
    "    train_data_matrix[each_line[1]-1, each_line[2]-1] = each_line[3]\n",
    "    \n",
    "# intantiating testing data matrix with 0 value\n",
    "test_data_matrix = np.zeros((n_users, n_items))\n",
    "# iterating through the train data matrix and inputting rating\n",
    "for each_line in train_data.itertuples():\n",
    "    test_data_matrix[each_line[1]-1, each_line[2]-1] = each_line[3]"
   ]
  },
  {
   "cell_type": "code",
   "execution_count": 9,
   "metadata": {
    "collapsed": true
   },
   "outputs": [],
   "source": [
    "# For User-Item Collaborative Filtering the similarity values between users are measured by observing all the items that are rated by both users.\n",
    "# The similarity values between items in Item-Item Collaborative Filtering are measured by observing all the users who have rated both items."
   ]
  },
  {
   "cell_type": "code",
   "execution_count": 10,
   "metadata": {
    "collapsed": true
   },
   "outputs": [],
   "source": [
    "# calculating distance metic as cosine similarity function\n",
    "from sklearn.metrics.pairwise import pairwise_distances\n",
    "\n",
    "user_similarity = pairwise_distances(train_data_matrix, metric = 'cosine')\n",
    "item_similarity = pairwise_distances(train_data_matrix.T, metric= 'cosine')"
   ]
  },
  {
   "cell_type": "code",
   "execution_count": 11,
   "metadata": {},
   "outputs": [
    {
     "data": {
      "text/plain": [
       "array([[ 0.        ,  0.85889923,  0.98567158, ...,  0.90158671,\n",
       "         0.84393059,  0.67875169],\n",
       "       [ 0.85889923,  0.        ,  0.93024899, ...,  0.85142444,\n",
       "         0.87289271,  0.97364055],\n",
       "       [ 0.98567158,  0.93024899,  0.        , ...,  0.92190644,\n",
       "         0.94831564,  0.98061675],\n",
       "       ..., \n",
       "       [ 0.90158671,  0.85142444,  0.92190644, ...,  0.        ,\n",
       "         1.        ,  0.95696747],\n",
       "       [ 0.84393059,  0.87289271,  0.94831564, ...,  1.        ,\n",
       "         0.        ,  0.8518642 ],\n",
       "       [ 0.67875169,  0.97364055,  0.98061675, ...,  0.95696747,\n",
       "         0.8518642 ,  0.        ]])"
      ]
     },
     "execution_count": 11,
     "metadata": {},
     "output_type": "execute_result"
    }
   ],
   "source": [
    "user_similarity"
   ]
  },
  {
   "cell_type": "code",
   "execution_count": 12,
   "metadata": {
    "collapsed": true
   },
   "outputs": [],
   "source": [
    "# function to calculate predictions\n",
    "def predict(ratings, similarity, type = 'user'):\n",
    "    if type == 'user':\n",
    "        mean_user_rating = ratings.mean(axis = 1)\n",
    "        ratings_diff = ratings - mean_user_rating[:, np.newaxis]\n",
    "# newaxis is used to increase the dimension of the existing array by one more dimension\n",
    "# i.e. to make mean_user_rating to same dimension as rating\n",
    "# newaxis is None returns TRUE they are same object i.e none can be used in it's place\n",
    "        pred = mean_user_rating[:, np.newaxis] + similarity.dot(ratings_diff) / np.array([np.abs(similarity).sum(axis = 1)]).T\n",
    "    elif type == 'item':\n",
    "        pred = ratings.dot(similarity)/np.array([np.abs(similarity).sum(axis=1)])\n",
    "    return pred"
   ]
  },
  {
   "cell_type": "code",
   "execution_count": 13,
   "metadata": {
    "collapsed": true
   },
   "outputs": [],
   "source": [
    "# Users who liked this item also liked ...\n",
    "# Item based Collaborative Filtering\n",
    "item_prediction = predict(train_data_matrix, item_similarity, type='item')\n",
    "# Users who are similar to you also liked ...\n",
    "# User based collaborative Filtering\n",
    "user_prediction = predict(train_data_matrix, user_similarity, type='user')"
   ]
  },
  {
   "cell_type": "code",
   "execution_count": 14,
   "metadata": {},
   "outputs": [
    {
     "data": {
      "text/plain": [
       "array([[ 1.60134981,  0.59711005,  0.50703573, ...,  0.30865491,\n",
       "         0.30852709,  0.30620137],\n",
       "       [ 1.31493621,  0.30309302,  0.15996587, ..., -0.06205848,\n",
       "        -0.06066217, -0.06390375],\n",
       "       [ 1.34292641,  0.26445711,  0.12893681, ..., -0.09879873,\n",
       "        -0.09677261, -0.10005074],\n",
       "       ..., \n",
       "       [ 1.20112446,  0.23046856,  0.0930102 , ..., -0.12070269,\n",
       "        -0.11975381, -0.12286677],\n",
       "       [ 1.37787922,  0.33770242,  0.22801157, ...,  0.00827516,\n",
       "         0.00885208,  0.00605828],\n",
       "       [ 1.41420954,  0.3993198 ,  0.31084043, ...,  0.11465009,\n",
       "         0.11454865,  0.11215797]])"
      ]
     },
     "execution_count": 14,
     "metadata": {},
     "output_type": "execute_result"
    }
   ],
   "source": [
    "user_prediction"
   ]
  },
  {
   "cell_type": "code",
   "execution_count": 15,
   "metadata": {
    "collapsed": true
   },
   "outputs": [],
   "source": [
    "# Evaluation or Testing(using Root Mean Square Error)\n",
    "# Using (MSE) Mean Square Error function... RMSE = MSE^(1/2)\n",
    "# Ground truth refers to the label for each training sample you have \n",
    "# i.e. you know which category/outcome each training sample belongs to\n",
    "\n",
    "# only consider predicted rating of nonzero test dataset use:\n",
    "# prediction[ground_truth.nonzero()]\n",
    "\n",
    "from sklearn.metrics import mean_squared_error as mse\n",
    "from math import sqrt\n",
    "def rmse(prediction, ground_truth):\n",
    "    prediction = prediction[ground_truth.nonzero()].flatten()\n",
    "    ground_truth = ground_truth[ground_truth.nonzero()].flatten()\n",
    "    return sqrt(mse(prediction, ground_truth))"
   ]
  },
  {
   "cell_type": "code",
   "execution_count": 16,
   "metadata": {},
   "outputs": [
    {
     "name": "stdout",
     "output_type": "stream",
     "text": [
      "User-based Collaborative Filtering RMSE:3.1301902878936048\n",
      "Item-based Collaborative Filtering RMSE:3.4577789669855963\n"
     ]
    }
   ],
   "source": [
    "# Memory Based CF having Cold Start Problem\n",
    "print('User-based Collaborative Filtering RMSE:' + str(rmse(user_prediction, test_data_matrix)))\n",
    "print('Item-based Collaborative Filtering RMSE:' + str(rmse(item_prediction, test_data_matrix)))"
   ]
  },
  {
   "cell_type": "code",
   "execution_count": 17,
   "metadata": {},
   "outputs": [
    {
     "name": "stdout",
     "output_type": "stream",
     "text": [
      "sparsity level of MovieLens100K is 93.7%\n"
     ]
    }
   ],
   "source": [
    "######### MODEL BASED COLLABORATIVE FILTERING ALGORITHM #######\n",
    "# BASED ON MATRIX FACTORIZATION uses SVD\n",
    "\n",
    "sparsity = round(1.0-len(df)/float(n_users*n_items),3)\n",
    "print('sparsity level of MovieLens100K is '+ str(sparsity*100) + '%')"
   ]
  },
  {
   "cell_type": "code",
   "execution_count": 18,
   "metadata": {},
   "outputs": [
    {
     "name": "stdout",
     "output_type": "stream",
     "text": [
      "User-based CF MSE: 2.388943556859095\n"
     ]
    }
   ],
   "source": [
    "import scipy.sparse as sp\n",
    "from scipy.sparse.linalg import svds\n",
    "\n",
    "#get SVD components from train matrix. Choose k.\n",
    "u, s, vt = svds(train_data_matrix, k = 20)\n",
    "s_diag_matrix=np.diag(s)\n",
    "X_pred = np.dot(np.dot(u, s_diag_matrix), vt)\n",
    "print('User-based CF MSE: ' + str(rmse(X_pred, test_data_matrix)))"
   ]
  },
  {
   "cell_type": "code",
   "execution_count": 19,
   "metadata": {
    "collapsed": true
   },
   "outputs": [],
   "source": [
    "########## HYbrid Recommender SYstems ##########################"
   ]
  },
  {
   "cell_type": "code",
   "execution_count": 20,
   "metadata": {},
   "outputs": [
    {
     "name": "stderr",
     "output_type": "stream",
     "text": [
      "C:\\Users\\hp\\Anaconda3\\lib\\site-packages\\lightfm\\_lightfm_fast.py:9: UserWarning: LightFM was compiled without OpenMP support. Only a single thread will be used.\n",
      "  warnings.warn('LightFM was compiled without OpenMP support. '\n"
     ]
    }
   ],
   "source": [
    "## correcting bad zip file error from lightfm datasets\n",
    "\n",
    "import itertools\n",
    "import os\n",
    "import zipfile\n",
    "\n",
    "import numpy as np\n",
    "\n",
    "import scipy.sparse as sp\n",
    "\n",
    "from lightfm.datasets import _common\n",
    "\n",
    "\n",
    "def _read_raw_data(path):\n",
    "    \"\"\"\n",
    "    Return the raw lines of the train and test files.\n",
    "    \"\"\"\n",
    "\n",
    "    with zipfile.ZipFile(path) as datafile:\n",
    "        return (datafile.read('ml-100k/ua.base').decode().split('\\n'),\n",
    "                datafile.read('ml-100k/ua.test').decode().split('\\n'),\n",
    "                datafile.read('ml-100k/u.item').decode(errors='ignore').split('\\n'),\n",
    "                datafile.read('ml-100k/u.genre').decode(errors='ignore').split('\\n'))\n",
    "\n",
    "\n",
    "def _parse(data):\n",
    "\n",
    "    for line in data:\n",
    "\n",
    "        if not line:\n",
    "            continue\n",
    "\n",
    "        uid, iid, rating, timestamp = [int(x) for x in line.split('\\t')]\n",
    "\n",
    "        # Subtract one from ids to shift\n",
    "        # to zero-based indexing\n",
    "        yield uid - 1, iid - 1, rating, timestamp\n",
    "\n",
    "\n",
    "def _get_dimensions(train_data, test_data):\n",
    "\n",
    "    uids = set()\n",
    "    iids = set()\n",
    "\n",
    "    for uid, iid, _, _ in itertools.chain(train_data,\n",
    "                                          test_data):\n",
    "        uids.add(uid)\n",
    "        iids.add(iid)\n",
    "\n",
    "    rows = max(uids) + 1\n",
    "    cols = max(iids) + 1\n",
    "\n",
    "    return rows, cols\n",
    "\n",
    "\n",
    "def _build_interaction_matrix(rows, cols, data, min_rating):\n",
    "\n",
    "    mat = sp.lil_matrix((rows, cols), dtype=np.int32)\n",
    "\n",
    "    for uid, iid, rating, _ in data:\n",
    "        if rating >= min_rating:\n",
    "            mat[uid, iid] = rating\n",
    "\n",
    "    return mat.tocoo()\n",
    "\n",
    "\n",
    "def _parse_item_metadata(num_items,\n",
    "                         item_metadata_raw, genres_raw):\n",
    "\n",
    "    genres = []\n",
    "\n",
    "    for line in genres_raw:\n",
    "        if line:\n",
    "            genre, gid = line.split('|')\n",
    "            genres.append('genre:{}'.format(genre))\n",
    "\n",
    "    id_feature_labels = np.empty(num_items, dtype=np.object)\n",
    "    genre_feature_labels = np.array(genres)\n",
    "\n",
    "    id_features = sp.identity(num_items,\n",
    "                              format='csr',\n",
    "                              dtype=np.float32)\n",
    "    genre_features = sp.lil_matrix((num_items, len(genres)),\n",
    "                                   dtype=np.float32)\n",
    "\n",
    "    for line in item_metadata_raw:\n",
    "\n",
    "        if not line:\n",
    "            continue\n",
    "\n",
    "        splt = line.split('|')\n",
    "\n",
    "        # Zero-based indexing\n",
    "        iid = int(splt[0]) - 1\n",
    "        title = splt[1]\n",
    "\n",
    "        id_feature_labels[iid] = title\n",
    "\n",
    "        item_genres = [idx for idx, val in\n",
    "                       enumerate(splt[5:])\n",
    "                       if int(val) > 0]\n",
    "\n",
    "        for gid in item_genres:\n",
    "            genre_features[iid, gid] = 1.0\n",
    "\n",
    "    return (id_features, id_feature_labels,\n",
    "            genre_features.tocsr(), genre_feature_labels)\n",
    "\n",
    "\n",
    "#[docs]\n",
    "def fetch_movielens(data_home=None, indicator_features=True, genre_features=False,\n",
    "                    min_rating=0.0, download_if_missing=True):\n",
    "    \"\"\"\n",
    "    Fetch the `Movielens 100k dataset <http://grouplens.org/datasets/movielens/100k/>`_.\n",
    "\n",
    "    The dataset contains 100,000 interactions from 1000 users on 1700 movies,\n",
    "    and is exhaustively described in its\n",
    "    `README <http://files.grouplens.org/datasets/movielens/ml-100k-README.txt>`_.\n",
    "\n",
    "    Parameters\n",
    "    ----------\n",
    "\n",
    "    data_home: path, optional\n",
    "        Path to the directory in which the downloaded data should be placed.\n",
    "        Defaults to ``~/lightfm_data/``.\n",
    "    indicator_features: bool, optional\n",
    "        Use an [n_users, n_users] identity matrix for item features. When True with genre_features,\n",
    "        indicator and genre features are concatenated into a single feature matrix of shape\n",
    "        [n_users, n_users + n_genres].\n",
    "    genre_features: bool, optional\n",
    "        Use a [n_users, n_genres] matrix for item features. When True with item_indicator_features,\n",
    "        indicator and genre features are concatenated into a single feature matrix of shape\n",
    "        [n_users, n_users + n_genres].\n",
    "    min_rating: float, optional\n",
    "        Minimum rating to include in the interaction matrix.\n",
    "    download_if_missing: bool, optional\n",
    "        Download the data if not present. Raises an IOError if False and data is missing.\n",
    "\n",
    "    Notes\n",
    "    -----\n",
    "\n",
    "    The return value is a dictionary containing the following keys:\n",
    "\n",
    "    Returns\n",
    "    -------\n",
    "\n",
    "    train: sp.coo_matrix of shape [n_users, n_items]\n",
    "         Contains training set interactions.\n",
    "    test: sp.coo_matrix of shape [n_users, n_items]\n",
    "         Contains testing set interactions.\n",
    "    item_features: sp.csr_matrix of shape [n_items, n_item_features]\n",
    "         Contains item features.\n",
    "    item_feature_labels: np.array of strings of shape [n_item_features,]\n",
    "         Labels of item features.\n",
    "    item_labels: np.array of strings of shape [n_items,]\n",
    "         Items' titles.\n",
    "    \"\"\"\n",
    "\n",
    "    if not (indicator_features or genre_features):\n",
    "        raise ValueError('At least one of item_indicator_features '\n",
    "                         'or genre_features must be True')\n",
    "\n",
    "    zip_path = _common.get_data(data_home,\n",
    "                                ('https://github.com/maciejkula/'\n",
    "                                 'lightfm_datasets/releases/'\n",
    "                                 'download/v0.1.0/movielens.zip'),\n",
    "                                'movielens100k',\n",
    "                                'movielens.zip',\n",
    "                                download_if_missing)\n",
    "\n",
    "    # Load raw data\n",
    "    try:\n",
    "        (train_raw, test_raw,\n",
    "         item_metadata_raw, genres_raw) = _read_raw_data(zip_path)\n",
    "    except zipfile.BadZipFile:\n",
    "        # Download was corrupted, get rid of the partially\n",
    "        # downloaded file so that we re-download on the\n",
    "        # next try.\n",
    "        os.unlink(zip_path)\n",
    "        raise ValueError('Corrupted Movielens download. Check your '\n",
    "                         'internet connection and try again.')\n",
    "\n",
    "    # Figure out the dimensions\n",
    "    num_users, num_items = _get_dimensions(_parse(train_raw),\n",
    "                                           _parse(test_raw))\n",
    "\n",
    "    # Load train interactions\n",
    "    train = _build_interaction_matrix(num_users,\n",
    "                                      num_items,\n",
    "                                      _parse(train_raw),\n",
    "                                      min_rating)\n",
    "    # Load test interactions\n",
    "    test = _build_interaction_matrix(num_users,\n",
    "                                     num_items,\n",
    "                                     _parse(test_raw),\n",
    "                                     min_rating)\n",
    "\n",
    "    assert train.shape == test.shape\n",
    "\n",
    "    # Load metadata features\n",
    "    (id_features, id_feature_labels,\n",
    "     genre_features_matrix, genre_feature_labels) = _parse_item_metadata(num_items,\n",
    "                                                                         item_metadata_raw,\n",
    "                                                                         genres_raw)\n",
    "\n",
    "    assert id_features.shape == (num_items, len(id_feature_labels))\n",
    "    assert genre_features_matrix.shape == (num_items, len(genre_feature_labels))\n",
    "\n",
    "    if indicator_features and not genre_features:\n",
    "        features = id_features\n",
    "        feature_labels = id_feature_labels\n",
    "    elif genre_features and not indicator_features:\n",
    "        features = genre_features_matrix\n",
    "        feature_labels = genre_feature_labels\n",
    "    else:\n",
    "        features = sp.hstack([id_features, genre_features_matrix]).tocsr()\n",
    "        feature_labels = np.concatenate((id_feature_labels,\n",
    "                                         genre_feature_labels))\n",
    "\n",
    "    data = {'train': train,\n",
    "            'test': test,\n",
    "            'item_features': features,\n",
    "            'item_feature_labels': feature_labels,\n",
    "            'item_labels': id_feature_labels}\n",
    "    return data"
   ]
  },
  {
   "cell_type": "code",
   "execution_count": 21,
   "metadata": {},
   "outputs": [
    {
     "name": "stdout",
     "output_type": "stream",
     "text": [
      "<943x1682 sparse matrix of type '<class 'numpy.int32'>'\n",
      "\twith 90570 stored elements in COOrdinate format>\n",
      "<943x1682 sparse matrix of type '<class 'numpy.int32'>'\n",
      "\twith 9430 stored elements in COOrdinate format>\n",
      "Train precision: 0.69\n",
      "Test precision: 0.12\n",
      "User 3\n",
      "     Known positives:\n",
      "        Seven (Se7en) (1995)\n",
      "        Indiana Jones and the Last Crusade (1989)\n",
      "        Contact (1997)\n",
      "     Recommended:\n",
      "        Scream (1996)\n",
      "        Contact (1997)\n",
      "        Air Force One (1997)\n",
      "User 25\n",
      "     Known positives:\n",
      "        Toy Story (1995)\n",
      "        Twelve Monkeys (1995)\n",
      "        Dead Man Walking (1995)\n",
      "     Recommended:\n",
      "        Fargo (1996)\n",
      "        Toy Story (1995)\n",
      "        Rock, The (1996)\n",
      "User 450\n",
      "     Known positives:\n",
      "        Kolya (1996)\n",
      "        Devil's Own, The (1997)\n",
      "        Contact (1997)\n",
      "     Recommended:\n",
      "        G.I. Jane (1997)\n",
      "        Cop Land (1997)\n",
      "        Scream (1996)\n"
     ]
    }
   ],
   "source": [
    "import numpy as np\n",
    "from lightfm.datasets import fetch_movielens\n",
    "from lightfm import LightFM\n",
    "\n",
    "# Load the MovieLens 100k dataset. Only five\n",
    "# star ratings are treated as positive.\n",
    "data = fetch_movielens(min_rating=1.0)\n",
    "\n",
    "# training and testing data\n",
    "print(repr(data['train']))\n",
    "print(repr(data['test']))\n",
    "\n",
    "# Instantiate and train the model\n",
    "model = LightFM(loss='warp')\n",
    "model.fit(data['train'], epochs=30, num_threads=2)\n",
    "\n",
    "from lightfm.evaluation import precision_at_k\n",
    "# Evaluate the trained model\n",
    "print(\"Train precision: %.2f\" % precision_at_k(model, data['train'], k=5).mean())\n",
    "print(\"Test precision: %.2f\" % precision_at_k(model, data['test'], k=5).mean())\n",
    "\n",
    "def sample_recommendation(model, data, user_ids):\n",
    "    \n",
    "    # no. of movies and users in training data\n",
    "    n_users, n_items = data['train'].shape\n",
    "    \n",
    "    # generate recommendation for each user we input\n",
    "    for user_id in user_ids:\n",
    "        # movies they already like into compressed sparse row format\n",
    "        known_positives = data['item_labels'][data['train'].tocsr()[user_id].indices]\n",
    "        \n",
    "        # predict movies ratings for all movies\n",
    "        scores = model.predict(user_id, np.arange(n_items))\n",
    "        # sorting the result in descending order\n",
    "        top_items = data['item_labels'][np.argsort(-scores)]\n",
    "        \n",
    "        print(\"User %s\" % user_id)\n",
    "        print(\"     Known positives:\")\n",
    "        \n",
    "        for x in known_positives[:3]:\n",
    "            print(\"        %s\" % x)\n",
    "\n",
    "        print(\"     Recommended:\")\n",
    "        \n",
    "        for x in top_items[:3]:\n",
    "            print(\"        %s\" % x)\n",
    "        \n",
    "sample_recommendation(model, data, [3, 25, 450])\n",
    "\n"
   ]
  },
  {
   "cell_type": "code",
   "execution_count": 22,
   "metadata": {},
   "outputs": [
    {
     "data": {
      "text/plain": [
       "{'item_feature_labels': array(['Toy Story (1995)', 'GoldenEye (1995)', 'Four Rooms (1995)', ...,\n",
       "        'Sliding Doors (1998)', 'You So Crazy (1994)',\n",
       "        'Scream of Stone (Schrei aus Stein) (1991)'], dtype=object),\n",
       " 'item_features': <1682x1682 sparse matrix of type '<class 'numpy.float32'>'\n",
       " \twith 1682 stored elements in Compressed Sparse Row format>,\n",
       " 'item_labels': array(['Toy Story (1995)', 'GoldenEye (1995)', 'Four Rooms (1995)', ...,\n",
       "        'Sliding Doors (1998)', 'You So Crazy (1994)',\n",
       "        'Scream of Stone (Schrei aus Stein) (1991)'], dtype=object),\n",
       " 'test': <943x1682 sparse matrix of type '<class 'numpy.int32'>'\n",
       " \twith 9430 stored elements in COOrdinate format>,\n",
       " 'train': <943x1682 sparse matrix of type '<class 'numpy.float32'>'\n",
       " \twith 90570 stored elements in COOrdinate format>}"
      ]
     },
     "execution_count": 22,
     "metadata": {},
     "output_type": "execute_result"
    }
   ],
   "source": [
    "data"
   ]
  },
  {
   "cell_type": "code",
   "execution_count": 23,
   "metadata": {},
   "outputs": [
    {
     "data": {
      "image/png": "[encoded data removed]",
      "text/plain": [
       "<matplotlib.figure.Figure at 0x14675a58908>"
      ]
     },
     "metadata": {},
     "output_type": "display_data"
    }
   ],
   "source": [
    "#### Exploring LightFM\n",
    "%matplotlib inline\n",
    "\n",
    "import matplotlib\n",
    "import numpy as np\n",
    "import matplotlib.pyplot as plt\n",
    "\n",
    "from lightfm import LightFM\n",
    "from lightfm.datasets import fetch_movielens\n",
    "from lightfm.evaluation import auc_score\n",
    "\n",
    "movielens = fetch_movielens()\n",
    "\n",
    "train, test = movielens['train'], movielens['test']\n",
    "\n",
    "alpha = 1e-3\n",
    "epochs = 70\n",
    "\n",
    "adagrad_model = LightFM(no_components=30,\n",
    "                        loss='warp',\n",
    "                        learning_schedule='adagrad',\n",
    "                        user_alpha=alpha,\n",
    "                        item_alpha=alpha)\n",
    "adadelta_model = LightFM(no_components=30,\n",
    "                        loss='warp',\n",
    "                        learning_schedule='adadelta',\n",
    "                        user_alpha=alpha,\n",
    "                        item_alpha=alpha)\n",
    "\n",
    "adagrad_auc = []\n",
    "\n",
    "for epoch in range(epochs):\n",
    "    adagrad_model.fit_partial(train, epochs=1)\n",
    "    adagrad_auc.append(auc_score(adagrad_model, test).mean())\n",
    "    \n",
    "    \n",
    "adadelta_auc = []\n",
    "\n",
    "for epoch in range(epochs):\n",
    "    adadelta_model.fit_partial(train, epochs=1)\n",
    "    adadelta_auc.append(auc_score(adadelta_model, test).mean())\n",
    "    \n",
    "x = np.arange(len(adagrad_auc))\n",
    "plt.plot(x, np.array(adagrad_auc))\n",
    "plt.plot(x, np.array(adadelta_auc))\n",
    "plt.legend(['adagrad', 'adadelta'], loc='lower right')\n",
    "plt.show()"
   ]
  },
  {
   "cell_type": "code",
   "execution_count": 24,
   "metadata": {},
   "outputs": [
    {
     "data": {
      "image/png": "[encoded data removed]",
      "text/plain": [
       "<matplotlib.figure.Figure at 0x14675a5fac8>"
      ]
     },
     "metadata": {},
     "output_type": "display_data"
    }
   ],
   "source": [
    "alpha = 1e-3\n",
    "epochs = 70\n",
    "\n",
    "adagrad_model = LightFM(no_components=30,\n",
    "                        loss='warp-kos',\n",
    "                        learning_schedule='adagrad',\n",
    "                        user_alpha=alpha, item_alpha=alpha)\n",
    "adadelta_model = LightFM(no_components=30,\n",
    "                        loss='warp-kos',\n",
    "                        learning_schedule='adadelta',\n",
    "                        user_alpha=alpha, item_alpha=alpha)\n",
    "\n",
    "adagrad_auc = []\n",
    "\n",
    "for epoch in range(epochs):\n",
    "    adagrad_model.fit_partial(train, epochs=1)\n",
    "    adagrad_auc.append(auc_score(adagrad_model, test).mean())\n",
    "    \n",
    "    \n",
    "adadelta_auc = []\n",
    "\n",
    "for epoch in range(epochs):\n",
    "    adadelta_model.fit_partial(train, epochs=1)\n",
    "    adadelta_auc.append(auc_score(adadelta_model, test).mean())\n",
    "    \n",
    "x = np.arange(len(adagrad_auc))\n",
    "plt.plot(x, np.array(adagrad_auc))\n",
    "plt.plot(x, np.array(adadelta_auc))\n",
    "plt.legend(['adagrad', 'adadelta'], loc='lower right')\n",
    "plt.show()"
   ]
  }
 ],
 "metadata": {
  "kernelspec": {
   "display_name": "Python 3",
   "language": "python",
   "name": "python3"
  },
  "language_info": {
   "codemirror_mode": {
    "name": "ipython",
    "version": 3
   },
   "file_extension": ".py",
   "mimetype": "text/x-python",
   "name": "python",
   "nbconvert_exporter": "python",
   "pygments_lexer": "ipython3",
   "version": "3.6.3"
  }
 },
 "nbformat": 4,
 "nbformat_minor": 2
}
