{
 "cells": [
  {
   "cell_type": "code",
   "execution_count": 7,
   "metadata": {
    "collapsed": true
   },
   "outputs": [],
   "source": [
    "import pandas as pd\n",
    "import numpy as np\n",
    "from lightfm import LightFM\n",
    "from scipy import sparse\n",
    "from scipy.sparse import coo_matrix"
   ]
  },
  {
   "cell_type": "code",
   "execution_count": 8,
   "metadata": {},
   "outputs": [
    {
     "data": {
      "text/html": [
       "<div>\n",
       "<style scoped>\n",
       "    .dataframe tbody tr th:only-of-type {\n",
       "        vertical-align: middle;\n",
       "    }\n",
       "\n",
       "    .dataframe tbody tr th {\n",
       "        vertical-align: top;\n",
       "    }\n",
       "\n",
       "    .dataframe thead th {\n",
       "        text-align: right;\n",
       "    }\n",
       "</style>\n",
       "<table border=\"1\" class=\"dataframe\">\n",
       "  <thead>\n",
       "    <tr style=\"text-align: right;\">\n",
       "      <th></th>\n",
       "      <th>placeID</th>\n",
       "      <th>latitude</th>\n",
       "      <th>longitude</th>\n",
       "      <th>the_geom_meter</th>\n",
       "      <th>name</th>\n",
       "      <th>address</th>\n",
       "      <th>city</th>\n",
       "      <th>state</th>\n",
       "      <th>country</th>\n",
       "      <th>fax</th>\n",
       "      <th>...</th>\n",
       "      <th>alcohol</th>\n",
       "      <th>smoking_area</th>\n",
       "      <th>dress_code</th>\n",
       "      <th>accessibility</th>\n",
       "      <th>price</th>\n",
       "      <th>url</th>\n",
       "      <th>Rambience</th>\n",
       "      <th>franchise</th>\n",
       "      <th>area</th>\n",
       "      <th>other_services</th>\n",
       "    </tr>\n",
       "  </thead>\n",
       "  <tbody>\n",
       "    <tr>\n",
       "      <th>0</th>\n",
       "      <td>134999</td>\n",
       "      <td>18.915421</td>\n",
       "      <td>-99.184871</td>\n",
       "      <td>0101000020957F000088568DE356715AC138C0A525FC46...</td>\n",
       "      <td>Kiku Cuernavaca</td>\n",
       "      <td>Revolucion</td>\n",
       "      <td>Cuernavaca</td>\n",
       "      <td>Morelos</td>\n",
       "      <td>Mexico</td>\n",
       "      <td>?</td>\n",
       "      <td>...</td>\n",
       "      <td>No_Alcohol_Served</td>\n",
       "      <td>none</td>\n",
       "      <td>informal</td>\n",
       "      <td>no_accessibility</td>\n",
       "      <td>medium</td>\n",
       "      <td>kikucuernavaca.com.mx</td>\n",
       "      <td>familiar</td>\n",
       "      <td>f</td>\n",
       "      <td>closed</td>\n",
       "      <td>none</td>\n",
       "    </tr>\n",
       "    <tr>\n",
       "      <th>1</th>\n",
       "      <td>132825</td>\n",
       "      <td>22.147392</td>\n",
       "      <td>-100.983092</td>\n",
       "      <td>0101000020957F00001AD016568C4858C1243261274BA5...</td>\n",
       "      <td>puesto de tacos</td>\n",
       "      <td>esquina santos degollado y leon guzman</td>\n",
       "      <td>s.l.p.</td>\n",
       "      <td>s.l.p.</td>\n",
       "      <td>mexico</td>\n",
       "      <td>?</td>\n",
       "      <td>...</td>\n",
       "      <td>No_Alcohol_Served</td>\n",
       "      <td>none</td>\n",
       "      <td>informal</td>\n",
       "      <td>completely</td>\n",
       "      <td>low</td>\n",
       "      <td>?</td>\n",
       "      <td>familiar</td>\n",
       "      <td>f</td>\n",
       "      <td>open</td>\n",
       "      <td>none</td>\n",
       "    </tr>\n",
       "    <tr>\n",
       "      <th>2</th>\n",
       "      <td>135106</td>\n",
       "      <td>22.149709</td>\n",
       "      <td>-100.976093</td>\n",
       "      <td>0101000020957F0000649D6F21634858C119AE9BF528A3...</td>\n",
       "      <td>El Rincón de San Francisco</td>\n",
       "      <td>Universidad 169</td>\n",
       "      <td>San Luis Potosi</td>\n",
       "      <td>San Luis Potosi</td>\n",
       "      <td>Mexico</td>\n",
       "      <td>?</td>\n",
       "      <td>...</td>\n",
       "      <td>Wine-Beer</td>\n",
       "      <td>only at bar</td>\n",
       "      <td>informal</td>\n",
       "      <td>partially</td>\n",
       "      <td>medium</td>\n",
       "      <td>?</td>\n",
       "      <td>familiar</td>\n",
       "      <td>f</td>\n",
       "      <td>open</td>\n",
       "      <td>none</td>\n",
       "    </tr>\n",
       "    <tr>\n",
       "      <th>3</th>\n",
       "      <td>132667</td>\n",
       "      <td>23.752697</td>\n",
       "      <td>-99.163359</td>\n",
       "      <td>0101000020957F00005D67BCDDED8157C1222A2DC8D84D...</td>\n",
       "      <td>little pizza Emilio Portes Gil</td>\n",
       "      <td>calle emilio portes gil</td>\n",
       "      <td>victoria</td>\n",
       "      <td>tamaulipas</td>\n",
       "      <td>?</td>\n",
       "      <td>?</td>\n",
       "      <td>...</td>\n",
       "      <td>No_Alcohol_Served</td>\n",
       "      <td>none</td>\n",
       "      <td>informal</td>\n",
       "      <td>completely</td>\n",
       "      <td>low</td>\n",
       "      <td>?</td>\n",
       "      <td>familiar</td>\n",
       "      <td>t</td>\n",
       "      <td>closed</td>\n",
       "      <td>none</td>\n",
       "    </tr>\n",
       "    <tr>\n",
       "      <th>4</th>\n",
       "      <td>132613</td>\n",
       "      <td>23.752903</td>\n",
       "      <td>-99.165076</td>\n",
       "      <td>0101000020957F00008EBA2D06DC8157C194E03B7B504E...</td>\n",
       "      <td>carnitas_mata</td>\n",
       "      <td>lic. Emilio portes gil</td>\n",
       "      <td>victoria</td>\n",
       "      <td>Tamaulipas</td>\n",
       "      <td>Mexico</td>\n",
       "      <td>?</td>\n",
       "      <td>...</td>\n",
       "      <td>No_Alcohol_Served</td>\n",
       "      <td>permitted</td>\n",
       "      <td>informal</td>\n",
       "      <td>completely</td>\n",
       "      <td>medium</td>\n",
       "      <td>?</td>\n",
       "      <td>familiar</td>\n",
       "      <td>t</td>\n",
       "      <td>closed</td>\n",
       "      <td>none</td>\n",
       "    </tr>\n",
       "  </tbody>\n",
       "</table>\n",
       "<p>5 rows × 21 columns</p>\n",
       "</div>"
      ],
      "text/plain": [
       "   placeID   latitude   longitude  \\\n",
       "0   134999  18.915421  -99.184871   \n",
       "1   132825  22.147392 -100.983092   \n",
       "2   135106  22.149709 -100.976093   \n",
       "3   132667  23.752697  -99.163359   \n",
       "4   132613  23.752903  -99.165076   \n",
       "\n",
       "                                      the_geom_meter  \\\n",
       "0  0101000020957F000088568DE356715AC138C0A525FC46...   \n",
       "1  0101000020957F00001AD016568C4858C1243261274BA5...   \n",
       "2  0101000020957F0000649D6F21634858C119AE9BF528A3...   \n",
       "3  0101000020957F00005D67BCDDED8157C1222A2DC8D84D...   \n",
       "4  0101000020957F00008EBA2D06DC8157C194E03B7B504E...   \n",
       "\n",
       "                             name                                 address  \\\n",
       "0                 Kiku Cuernavaca                              Revolucion   \n",
       "1                 puesto de tacos  esquina santos degollado y leon guzman   \n",
       "2      El Rincón de San Francisco                         Universidad 169   \n",
       "3  little pizza Emilio Portes Gil                 calle emilio portes gil   \n",
       "4                   carnitas_mata                  lic. Emilio portes gil   \n",
       "\n",
       "              city            state country fax      ...        \\\n",
       "0       Cuernavaca          Morelos  Mexico   ?      ...         \n",
       "1           s.l.p.           s.l.p.  mexico   ?      ...         \n",
       "2  San Luis Potosi  San Luis Potosi  Mexico   ?      ...         \n",
       "3        victoria        tamaulipas       ?   ?      ...         \n",
       "4         victoria       Tamaulipas  Mexico   ?      ...         \n",
       "\n",
       "             alcohol smoking_area dress_code     accessibility   price  \\\n",
       "0  No_Alcohol_Served         none   informal  no_accessibility  medium   \n",
       "1  No_Alcohol_Served         none   informal        completely     low   \n",
       "2          Wine-Beer  only at bar   informal         partially  medium   \n",
       "3  No_Alcohol_Served         none   informal        completely     low   \n",
       "4  No_Alcohol_Served    permitted   informal        completely  medium   \n",
       "\n",
       "                     url Rambience franchise    area other_services  \n",
       "0  kikucuernavaca.com.mx  familiar         f  closed           none  \n",
       "1                      ?  familiar         f    open           none  \n",
       "2                      ?  familiar         f    open           none  \n",
       "3                      ?  familiar         t  closed           none  \n",
       "4                      ?  familiar         t  closed           none  \n",
       "\n",
       "[5 rows x 21 columns]"
      ]
     },
     "execution_count": 8,
     "metadata": {},
     "output_type": "execute_result"
    }
   ],
   "source": [
    "df = pd.read_csv('C:/Users/hp/Documents/JupyterDemo/Data Food Items/rating_final.csv', sep = ',', header = 0)\n",
    "rest_name = pd.read_csv('C:/Users/hp/Documents/JupyterDemo/Data Food Items/geoplaces2.csv', sep = ',', header = 0, encoding = \"ISO-8859-1\")\n",
    "rest_name.head()"
   ]
  },
  {
   "cell_type": "code",
   "execution_count": 35,
   "metadata": {},
   "outputs": [
    {
     "data": {
      "text/plain": [
       "array([  1,   2,   3,   4,   5,   6,   7,   8,   9,  10,  11,  12,  13,\n",
       "        14,  15,  16,  17,  18,  19,  20,  21,  22,  23,  24,  25,  26,\n",
       "        27,  28,  29,  30,  31,  32,  33,  34,  35,  36,  37,  38,  39,\n",
       "        40,  41,  42,  43,  44,  45,  46,  47,  48,  49,  50,  51,  52,\n",
       "        53,  54,  55,  56,  57,  58,  59,  60,  61,  62,  63,  64,  65,\n",
       "        66,  67,  68,  69,  70,  71,  72,  73,  74,  75,  76,  77,  78,\n",
       "        79,  80,  81,  82,  83,  84,  85,  86,  87,  88,  89,  90,  91,\n",
       "        92,  93,  94,  95,  96,  97,  98,  99, 100, 101, 102, 103, 104,\n",
       "       105, 106, 107, 108, 109, 110, 111, 112, 113, 114, 115, 116, 117,\n",
       "       118, 119, 120, 121, 122, 123, 124, 125, 126, 127, 128, 129])"
      ]
     },
     "execution_count": 35,
     "metadata": {},
     "output_type": "execute_result"
    }
   ],
   "source": [
    "np.arange(1,rest_name.shape[0])"
   ]
  },
  {
   "cell_type": "code",
   "execution_count": 9,
   "metadata": {},
   "outputs": [
    {
     "data": {
      "text/html": [
       "<div>\n",
       "<style scoped>\n",
       "    .dataframe tbody tr th:only-of-type {\n",
       "        vertical-align: middle;\n",
       "    }\n",
       "\n",
       "    .dataframe tbody tr th {\n",
       "        vertical-align: top;\n",
       "    }\n",
       "\n",
       "    .dataframe thead th {\n",
       "        text-align: right;\n",
       "    }\n",
       "</style>\n",
       "<table border=\"1\" class=\"dataframe\">\n",
       "  <thead>\n",
       "    <tr style=\"text-align: right;\">\n",
       "      <th></th>\n",
       "      <th>placeID</th>\n",
       "      <th>name</th>\n",
       "      <th>rest_col</th>\n",
       "    </tr>\n",
       "  </thead>\n",
       "  <tbody>\n",
       "    <tr>\n",
       "      <th>0</th>\n",
       "      <td>134999</td>\n",
       "      <td>Kiku Cuernavaca</td>\n",
       "      <td>1.0</td>\n",
       "    </tr>\n",
       "    <tr>\n",
       "      <th>1</th>\n",
       "      <td>132825</td>\n",
       "      <td>puesto de tacos</td>\n",
       "      <td>2.0</td>\n",
       "    </tr>\n",
       "    <tr>\n",
       "      <th>2</th>\n",
       "      <td>135106</td>\n",
       "      <td>El Rincón de San Francisco</td>\n",
       "      <td>3.0</td>\n",
       "    </tr>\n",
       "    <tr>\n",
       "      <th>3</th>\n",
       "      <td>132667</td>\n",
       "      <td>little pizza Emilio Portes Gil</td>\n",
       "      <td>4.0</td>\n",
       "    </tr>\n",
       "    <tr>\n",
       "      <th>4</th>\n",
       "      <td>132613</td>\n",
       "      <td>carnitas_mata</td>\n",
       "      <td>5.0</td>\n",
       "    </tr>\n",
       "  </tbody>\n",
       "</table>\n",
       "</div>"
      ],
      "text/plain": [
       "   placeID                            name  rest_col\n",
       "0   134999                 Kiku Cuernavaca       1.0\n",
       "1   132825                 puesto de tacos       2.0\n",
       "2   135106      El Rincón de San Francisco       3.0\n",
       "3   132667  little pizza Emilio Portes Gil       4.0\n",
       "4   132613                   carnitas_mata       5.0"
      ]
     },
     "execution_count": 9,
     "metadata": {},
     "output_type": "execute_result"
    }
   ],
   "source": [
    "rest_name = rest_name.loc[:,[\"placeID\", \"name\"]]\n",
    "rest_name['rest_col'] = pd.DataFrame(np.arange(1,rest_name.shape[0]))\n",
    "rest_name.head()"
   ]
  },
  {
   "cell_type": "code",
   "execution_count": 10,
   "metadata": {},
   "outputs": [
    {
     "data": {
      "text/html": [
       "<div>\n",
       "<style scoped>\n",
       "    .dataframe tbody tr th:only-of-type {\n",
       "        vertical-align: middle;\n",
       "    }\n",
       "\n",
       "    .dataframe tbody tr th {\n",
       "        vertical-align: top;\n",
       "    }\n",
       "\n",
       "    .dataframe thead th {\n",
       "        text-align: right;\n",
       "    }\n",
       "</style>\n",
       "<table border=\"1\" class=\"dataframe\">\n",
       "  <thead>\n",
       "    <tr style=\"text-align: right;\">\n",
       "      <th></th>\n",
       "      <th>userID</th>\n",
       "    </tr>\n",
       "  </thead>\n",
       "  <tbody>\n",
       "    <tr>\n",
       "      <th>0</th>\n",
       "      <td>U1001</td>\n",
       "    </tr>\n",
       "    <tr>\n",
       "      <th>1</th>\n",
       "      <td>U1002</td>\n",
       "    </tr>\n",
       "    <tr>\n",
       "      <th>2</th>\n",
       "      <td>U1003</td>\n",
       "    </tr>\n",
       "    <tr>\n",
       "      <th>3</th>\n",
       "      <td>U1004</td>\n",
       "    </tr>\n",
       "    <tr>\n",
       "      <th>4</th>\n",
       "      <td>U1005</td>\n",
       "    </tr>\n",
       "  </tbody>\n",
       "</table>\n",
       "</div>"
      ],
      "text/plain": [
       "  userID\n",
       "0  U1001\n",
       "1  U1002\n",
       "2  U1003\n",
       "3  U1004\n",
       "4  U1005"
      ]
     },
     "execution_count": 10,
     "metadata": {},
     "output_type": "execute_result"
    }
   ],
   "source": [
    "users = pd.read_csv('C:/Users/hp/Documents/JupyterDemo/Data Food Items/userprofile.csv', sep = ',', header = 0)\n",
    "users = users.loc[:,['userID']]\n",
    "users.head()"
   ]
  },
  {
   "cell_type": "code",
   "execution_count": 6,
   "metadata": {
    "collapsed": true
   },
   "outputs": [],
   "source": [
    "n_users = users.shape[0]\n",
    "n_items = rest_name.shape[0]"
   ]
  },
  {
   "cell_type": "code",
   "execution_count": 39,
   "metadata": {},
   "outputs": [
    {
     "data": {
      "text/plain": [
       "(130, 3)"
      ]
     },
     "execution_count": 39,
     "metadata": {},
     "output_type": "execute_result"
    }
   ],
   "source": [
    "rest_name.shape"
   ]
  },
  {
   "cell_type": "code",
   "execution_count": 40,
   "metadata": {},
   "outputs": [
    {
     "data": {
      "text/plain": [
       "userID            object\n",
       "placeID            int64\n",
       "rating             int64\n",
       "food_rating        int64\n",
       "service_rating     int64\n",
       "user_row           int64\n",
       "dtype: object"
      ]
     },
     "execution_count": 40,
     "metadata": {},
     "output_type": "execute_result"
    }
   ],
   "source": [
    "df['user_row'] = pd.to_numeric(df.userID.str.replace('[^0-9]',\"\"), errors = 'coerce') - 1000\n",
    "df.dtypes"
   ]
  },
  {
   "cell_type": "code",
   "execution_count": 41,
   "metadata": {},
   "outputs": [
    {
     "data": {
      "text/plain": [
       "138"
      ]
     },
     "execution_count": 41,
     "metadata": {},
     "output_type": "execute_result"
    }
   ],
   "source": [
    "n_users"
   ]
  },
  {
   "cell_type": "code",
   "execution_count": 42,
   "metadata": {
    "collapsed": true
   },
   "outputs": [],
   "source": [
    "df = pd.merge(df, rest_name, on='placeID', how='inner')"
   ]
  },
  {
   "cell_type": "code",
   "execution_count": 43,
   "metadata": {},
   "outputs": [
    {
     "data": {
      "text/html": [
       "<div>\n",
       "<style scoped>\n",
       "    .dataframe tbody tr th:only-of-type {\n",
       "        vertical-align: middle;\n",
       "    }\n",
       "\n",
       "    .dataframe tbody tr th {\n",
       "        vertical-align: top;\n",
       "    }\n",
       "\n",
       "    .dataframe thead th {\n",
       "        text-align: right;\n",
       "    }\n",
       "</style>\n",
       "<table border=\"1\" class=\"dataframe\">\n",
       "  <thead>\n",
       "    <tr style=\"text-align: right;\">\n",
       "      <th></th>\n",
       "      <th>userID</th>\n",
       "      <th>placeID</th>\n",
       "      <th>rating</th>\n",
       "      <th>food_rating</th>\n",
       "      <th>service_rating</th>\n",
       "      <th>user_row</th>\n",
       "      <th>name</th>\n",
       "      <th>rest_col</th>\n",
       "    </tr>\n",
       "  </thead>\n",
       "  <tbody>\n",
       "    <tr>\n",
       "      <th>0</th>\n",
       "      <td>U1077</td>\n",
       "      <td>135085</td>\n",
       "      <td>2</td>\n",
       "      <td>2</td>\n",
       "      <td>2</td>\n",
       "      <td>77</td>\n",
       "      <td>Tortas Locas Hipocampo</td>\n",
       "      <td>122.0</td>\n",
       "    </tr>\n",
       "    <tr>\n",
       "      <th>1</th>\n",
       "      <td>U1108</td>\n",
       "      <td>135085</td>\n",
       "      <td>1</td>\n",
       "      <td>2</td>\n",
       "      <td>1</td>\n",
       "      <td>108</td>\n",
       "      <td>Tortas Locas Hipocampo</td>\n",
       "      <td>122.0</td>\n",
       "    </tr>\n",
       "    <tr>\n",
       "      <th>2</th>\n",
       "      <td>U1081</td>\n",
       "      <td>135085</td>\n",
       "      <td>1</td>\n",
       "      <td>2</td>\n",
       "      <td>1</td>\n",
       "      <td>81</td>\n",
       "      <td>Tortas Locas Hipocampo</td>\n",
       "      <td>122.0</td>\n",
       "    </tr>\n",
       "    <tr>\n",
       "      <th>3</th>\n",
       "      <td>U1056</td>\n",
       "      <td>135085</td>\n",
       "      <td>2</td>\n",
       "      <td>2</td>\n",
       "      <td>2</td>\n",
       "      <td>56</td>\n",
       "      <td>Tortas Locas Hipocampo</td>\n",
       "      <td>122.0</td>\n",
       "    </tr>\n",
       "    <tr>\n",
       "      <th>4</th>\n",
       "      <td>U1134</td>\n",
       "      <td>135085</td>\n",
       "      <td>2</td>\n",
       "      <td>1</td>\n",
       "      <td>2</td>\n",
       "      <td>134</td>\n",
       "      <td>Tortas Locas Hipocampo</td>\n",
       "      <td>122.0</td>\n",
       "    </tr>\n",
       "  </tbody>\n",
       "</table>\n",
       "</div>"
      ],
      "text/plain": [
       "  userID  placeID  rating  food_rating  service_rating  user_row  \\\n",
       "0  U1077   135085       2            2               2        77   \n",
       "1  U1108   135085       1            2               1       108   \n",
       "2  U1081   135085       1            2               1        81   \n",
       "3  U1056   135085       2            2               2        56   \n",
       "4  U1134   135085       2            1               2       134   \n",
       "\n",
       "                     name  rest_col  \n",
       "0  Tortas Locas Hipocampo     122.0  \n",
       "1  Tortas Locas Hipocampo     122.0  \n",
       "2  Tortas Locas Hipocampo     122.0  \n",
       "3  Tortas Locas Hipocampo     122.0  \n",
       "4  Tortas Locas Hipocampo     122.0  "
      ]
     },
     "execution_count": 43,
     "metadata": {},
     "output_type": "execute_result"
    }
   ],
   "source": [
    "df.head()"
   ]
  },
  {
   "cell_type": "code",
   "execution_count": 44,
   "metadata": {},
   "outputs": [
    {
     "data": {
      "text/plain": [
       "(1161, 8)"
      ]
     },
     "execution_count": 44,
     "metadata": {},
     "output_type": "execute_result"
    }
   ],
   "source": [
    "df.shape"
   ]
  },
  {
   "cell_type": "code",
   "execution_count": 45,
   "metadata": {},
   "outputs": [
    {
     "data": {
      "text/html": [
       "<div>\n",
       "<style scoped>\n",
       "    .dataframe tbody tr th:only-of-type {\n",
       "        vertical-align: middle;\n",
       "    }\n",
       "\n",
       "    .dataframe tbody tr th {\n",
       "        vertical-align: top;\n",
       "    }\n",
       "\n",
       "    .dataframe thead th {\n",
       "        text-align: right;\n",
       "    }\n",
       "</style>\n",
       "<table border=\"1\" class=\"dataframe\">\n",
       "  <thead>\n",
       "    <tr style=\"text-align: right;\">\n",
       "      <th></th>\n",
       "      <th>userID</th>\n",
       "      <th>placeID</th>\n",
       "      <th>rating</th>\n",
       "      <th>food_rating</th>\n",
       "      <th>service_rating</th>\n",
       "      <th>user_row</th>\n",
       "      <th>name</th>\n",
       "      <th>rest_col</th>\n",
       "      <th>final_rating</th>\n",
       "    </tr>\n",
       "  </thead>\n",
       "  <tbody>\n",
       "    <tr>\n",
       "      <th>0</th>\n",
       "      <td>U1077</td>\n",
       "      <td>135085</td>\n",
       "      <td>2</td>\n",
       "      <td>2</td>\n",
       "      <td>2</td>\n",
       "      <td>77</td>\n",
       "      <td>Tortas Locas Hipocampo</td>\n",
       "      <td>122.0</td>\n",
       "      <td>2.000000</td>\n",
       "    </tr>\n",
       "    <tr>\n",
       "      <th>1</th>\n",
       "      <td>U1108</td>\n",
       "      <td>135085</td>\n",
       "      <td>1</td>\n",
       "      <td>2</td>\n",
       "      <td>1</td>\n",
       "      <td>108</td>\n",
       "      <td>Tortas Locas Hipocampo</td>\n",
       "      <td>122.0</td>\n",
       "      <td>1.333333</td>\n",
       "    </tr>\n",
       "    <tr>\n",
       "      <th>2</th>\n",
       "      <td>U1081</td>\n",
       "      <td>135085</td>\n",
       "      <td>1</td>\n",
       "      <td>2</td>\n",
       "      <td>1</td>\n",
       "      <td>81</td>\n",
       "      <td>Tortas Locas Hipocampo</td>\n",
       "      <td>122.0</td>\n",
       "      <td>1.333333</td>\n",
       "    </tr>\n",
       "    <tr>\n",
       "      <th>3</th>\n",
       "      <td>U1056</td>\n",
       "      <td>135085</td>\n",
       "      <td>2</td>\n",
       "      <td>2</td>\n",
       "      <td>2</td>\n",
       "      <td>56</td>\n",
       "      <td>Tortas Locas Hipocampo</td>\n",
       "      <td>122.0</td>\n",
       "      <td>2.000000</td>\n",
       "    </tr>\n",
       "    <tr>\n",
       "      <th>4</th>\n",
       "      <td>U1134</td>\n",
       "      <td>135085</td>\n",
       "      <td>2</td>\n",
       "      <td>1</td>\n",
       "      <td>2</td>\n",
       "      <td>134</td>\n",
       "      <td>Tortas Locas Hipocampo</td>\n",
       "      <td>122.0</td>\n",
       "      <td>1.666667</td>\n",
       "    </tr>\n",
       "  </tbody>\n",
       "</table>\n",
       "</div>"
      ],
      "text/plain": [
       "  userID  placeID  rating  food_rating  service_rating  user_row  \\\n",
       "0  U1077   135085       2            2               2        77   \n",
       "1  U1108   135085       1            2               1       108   \n",
       "2  U1081   135085       1            2               1        81   \n",
       "3  U1056   135085       2            2               2        56   \n",
       "4  U1134   135085       2            1               2       134   \n",
       "\n",
       "                     name  rest_col  final_rating  \n",
       "0  Tortas Locas Hipocampo     122.0      2.000000  \n",
       "1  Tortas Locas Hipocampo     122.0      1.333333  \n",
       "2  Tortas Locas Hipocampo     122.0      1.333333  \n",
       "3  Tortas Locas Hipocampo     122.0      2.000000  \n",
       "4  Tortas Locas Hipocampo     122.0      1.666667  "
      ]
     },
     "execution_count": 45,
     "metadata": {},
     "output_type": "execute_result"
    }
   ],
   "source": [
    "df['final_rating'] = np.mean(df.loc[:,[\"rating\",\"food_rating\",\"service_rating\"]], axis = 1)\n",
    "df.head()"
   ]
  },
  {
   "cell_type": "code",
   "execution_count": 46,
   "metadata": {
    "collapsed": true
   },
   "outputs": [],
   "source": [
    "df1 = df.loc[:,[\"user_row\",\"rest_col\",\"rating\"]]"
   ]
  },
  {
   "cell_type": "code",
   "execution_count": 47,
   "metadata": {
    "collapsed": true
   },
   "outputs": [],
   "source": [
    "df1 = df1.dropna(axis = 0)\n",
    "df1[pd.isnull(df1).any(axis=1)]\n",
    "df1['rest_col'] = df1['rest_col'].astype(int)"
   ]
  },
  {
   "cell_type": "code",
   "execution_count": 49,
   "metadata": {},
   "outputs": [
    {
     "data": {
      "text/html": [
       "<div>\n",
       "<style scoped>\n",
       "    .dataframe tbody tr th:only-of-type {\n",
       "        vertical-align: middle;\n",
       "    }\n",
       "\n",
       "    .dataframe tbody tr th {\n",
       "        vertical-align: top;\n",
       "    }\n",
       "\n",
       "    .dataframe thead th {\n",
       "        text-align: right;\n",
       "    }\n",
       "</style>\n",
       "<table border=\"1\" class=\"dataframe\">\n",
       "  <thead>\n",
       "    <tr style=\"text-align: right;\">\n",
       "      <th></th>\n",
       "      <th>user_row</th>\n",
       "      <th>rest_col</th>\n",
       "      <th>rating</th>\n",
       "    </tr>\n",
       "  </thead>\n",
       "  <tbody>\n",
       "    <tr>\n",
       "      <th>0</th>\n",
       "      <td>77</td>\n",
       "      <td>122</td>\n",
       "      <td>2</td>\n",
       "    </tr>\n",
       "    <tr>\n",
       "      <th>1</th>\n",
       "      <td>108</td>\n",
       "      <td>122</td>\n",
       "      <td>1</td>\n",
       "    </tr>\n",
       "    <tr>\n",
       "      <th>2</th>\n",
       "      <td>81</td>\n",
       "      <td>122</td>\n",
       "      <td>1</td>\n",
       "    </tr>\n",
       "    <tr>\n",
       "      <th>3</th>\n",
       "      <td>56</td>\n",
       "      <td>122</td>\n",
       "      <td>2</td>\n",
       "    </tr>\n",
       "    <tr>\n",
       "      <th>4</th>\n",
       "      <td>134</td>\n",
       "      <td>122</td>\n",
       "      <td>2</td>\n",
       "    </tr>\n",
       "  </tbody>\n",
       "</table>\n",
       "</div>"
      ],
      "text/plain": [
       "   user_row  rest_col  rating\n",
       "0        77       122       2\n",
       "1       108       122       1\n",
       "2        81       122       1\n",
       "3        56       122       2\n",
       "4       134       122       2"
      ]
     },
     "execution_count": 49,
     "metadata": {},
     "output_type": "execute_result"
    }
   ],
   "source": [
    "df1.head()"
   ]
  },
  {
   "cell_type": "code",
   "execution_count": 50,
   "metadata": {},
   "outputs": [
    {
     "data": {
      "text/plain": [
       "1"
      ]
     },
     "execution_count": 50,
     "metadata": {},
     "output_type": "execute_result"
    }
   ],
   "source": [
    "df1.user_row.min()"
   ]
  },
  {
   "cell_type": "code",
   "execution_count": 52,
   "metadata": {
    "collapsed": true
   },
   "outputs": [],
   "source": [
    "df2 = df1"
   ]
  },
  {
   "cell_type": "code",
   "execution_count": 54,
   "metadata": {},
   "outputs": [
    {
     "data": {
      "text/html": [
       "<div>\n",
       "<style scoped>\n",
       "    .dataframe tbody tr th:only-of-type {\n",
       "        vertical-align: middle;\n",
       "    }\n",
       "\n",
       "    .dataframe tbody tr th {\n",
       "        vertical-align: top;\n",
       "    }\n",
       "\n",
       "    .dataframe thead th {\n",
       "        text-align: right;\n",
       "    }\n",
       "</style>\n",
       "<table border=\"1\" class=\"dataframe\">\n",
       "  <thead>\n",
       "    <tr style=\"text-align: right;\">\n",
       "      <th></th>\n",
       "      <th>user_row</th>\n",
       "      <th>rest_col</th>\n",
       "      <th>rating</th>\n",
       "    </tr>\n",
       "  </thead>\n",
       "  <tbody>\n",
       "    <tr>\n",
       "      <th>0</th>\n",
       "      <td>77</td>\n",
       "      <td>122</td>\n",
       "      <td>2</td>\n",
       "    </tr>\n",
       "    <tr>\n",
       "      <th>1</th>\n",
       "      <td>108</td>\n",
       "      <td>122</td>\n",
       "      <td>1</td>\n",
       "    </tr>\n",
       "    <tr>\n",
       "      <th>2</th>\n",
       "      <td>81</td>\n",
       "      <td>122</td>\n",
       "      <td>1</td>\n",
       "    </tr>\n",
       "    <tr>\n",
       "      <th>3</th>\n",
       "      <td>56</td>\n",
       "      <td>122</td>\n",
       "      <td>2</td>\n",
       "    </tr>\n",
       "    <tr>\n",
       "      <th>4</th>\n",
       "      <td>134</td>\n",
       "      <td>122</td>\n",
       "      <td>2</td>\n",
       "    </tr>\n",
       "  </tbody>\n",
       "</table>\n",
       "</div>"
      ],
      "text/plain": [
       "   user_row  rest_col  rating\n",
       "0        77       122       2\n",
       "1       108       122       1\n",
       "2        81       122       1\n",
       "3        56       122       2\n",
       "4       134       122       2"
      ]
     },
     "execution_count": 54,
     "metadata": {},
     "output_type": "execute_result"
    }
   ],
   "source": [
    "df2.head()"
   ]
  },
  {
   "cell_type": "code",
   "execution_count": 55,
   "metadata": {},
   "outputs": [
    {
     "data": {
      "text/plain": [
       "\"from scipy.sparse import coo_matrix\\nimport os.path\\ndef no_file():\\n    print 'Dataset not found, please download the file from:'\\n    print 'http://mtg.upf.edu/static/datasets/last.fm/lastfm-dataset-360K.tar.gz (1.6GB)'\\n    print 'then place it in recommender_system_py/data/ and change the file_path'\\n    print 'variable on the fetch_lastfm function'\\ndef fetch_lastfm(min_plays=200):\\n    file_path = 'data/100k_lines_lastfm.tsv'\\n    if not os.path.exists(file_path):\\n        return no_file()\\n    \\n    # Data to create our coo_matrix\\n    data, row, col = [], [], []\\n    # Artists by id, and users\\n    artists, users = {}, {}\\n    # Read the file and fill variables with data to\\n    # create the matrix and have the artists by id\\n    with open(file_path) as data_file:\\n        for n, line in enumerate(data_file):\\n            # If you use the original data from lastfm (14 million lines)\\n            # if n == SOMEINT: break\\n            # Readable data (for humans)\\n            readable_data = line.split('\\t')\\n            user =           readable_data[0]\\n            artist_id =      readable_data[1]\\n            artist_name =    readable_data[2]\\n            plays =     int(readable_data[3])\\n            if user not in users:\\n                users[user] = len(users)\\n            if artist_id not in artists:\\n                artists[artist_id] = {\\n                        'name' : artist_name,\\n                        'id' : len(artists)\\n                        }\\n            # Data for the coo_matrix if the artist was played > 200 times\\n            if plays > min_plays:\\n                data.append(plays)\\n                row.append(users[user])\\n                col.append(artists[artist_id]['id'])\\n    # Our matrix: ((plays, (user, artist)))\\n    coo = coo_matrix((data,(row,col)))\\n    # We return the matrix, the artist dictionary and the amount of users\\n    dictionary = {\\n        'matrix' : coo,\\n        'artists' : artists,\\n        'users' : len(users)\\n    }\\n    return dictionary\""
      ]
     },
     "execution_count": 55,
     "metadata": {},
     "output_type": "execute_result"
    }
   ],
   "source": [
    "\"\"\"from scipy.sparse import coo_matrix\n",
    "import os.path\n",
    "def no_file():\n",
    "    print 'Dataset not found, please download the file from:'\n",
    "    print 'http://mtg.upf.edu/static/datasets/last.fm/lastfm-dataset-360K.tar.gz (1.6GB)'\n",
    "    print 'then place it in recommender_system_py/data/ and change the file_path'\n",
    "    print 'variable on the fetch_lastfm function'\n",
    "def fetch_lastfm(min_plays=200):\n",
    "    file_path = 'data/100k_lines_lastfm.tsv'\n",
    "    if not os.path.exists(file_path):\n",
    "        return no_file()\n",
    "    \n",
    "    # Data to create our coo_matrix\n",
    "    data, row, col = [], [], []\n",
    "    # Artists by id, and users\n",
    "    artists, users = {}, {}\n",
    "    # Read the file and fill variables with data to\n",
    "    # create the matrix and have the artists by id\n",
    "    with open(file_path) as data_file:\n",
    "        for n, line in enumerate(data_file):\n",
    "            # If you use the original data from lastfm (14 million lines)\n",
    "            # if n == SOMEINT: break\n",
    "            # Readable data (for humans)\n",
    "            readable_data = line.split('\\t')\n",
    "            user =           readable_data[0]\n",
    "            artist_id =      readable_data[1]\n",
    "            artist_name =    readable_data[2]\n",
    "            plays =     int(readable_data[3])\n",
    "            if user not in users:\n",
    "                users[user] = len(users)\n",
    "            if artist_id not in artists:\n",
    "                artists[artist_id] = {\n",
    "                        'name' : artist_name,\n",
    "                        'id' : len(artists)\n",
    "                        }\n",
    "            # Data for the coo_matrix if the artist was played > 200 times\n",
    "            if plays > min_plays:\n",
    "                data.append(plays)\n",
    "                row.append(users[user])\n",
    "                col.append(artists[artist_id]['id'])\n",
    "    # Our matrix: ((plays, (user, artist)))\n",
    "    coo = coo_matrix((data,(row,col)))\n",
    "    # We return the matrix, the artist dictionary and the amount of users\n",
    "    dictionary = {\n",
    "        'matrix' : coo,\n",
    "        'artists' : artists,\n",
    "        'users' : len(users)\n",
    "    }\n",
    "    return dictionary\"\"\""
   ]
  },
  {
   "cell_type": "code",
   "execution_count": 56,
   "metadata": {},
   "outputs": [
    {
     "data": {
      "text/plain": [
       "<1157x3 sparse matrix of type '<class 'numpy.float64'>'\n",
       "\twith 3471 stored elements in Compressed Sparse Row format>"
      ]
     },
     "execution_count": 56,
     "metadata": {},
     "output_type": "execute_result"
    }
   ],
   "source": [
    "def sparse_df_to_array(df):\n",
    "    num_rows = df.shape[0]   \n",
    "\n",
    "    data = []\n",
    "    row = []\n",
    "    col = []\n",
    "\n",
    "    for i, col_name in enumerate(df.columns):\n",
    "        if isinstance(df[col_name], pd.SparseSeries):\n",
    "            column_index = df[col_name].sp_index\n",
    "            if isinstance(column_index, BlockIndex):\n",
    "                column_index = column_index.to_int_index()\n",
    "\n",
    "            ix = column_index.indices\n",
    "            data.append(df[col_name].sp_values)\n",
    "            row.append(ix)\n",
    "            col.append(len(df[col_name].sp_values) * [i])\n",
    "        else:\n",
    "            data.append(df[col_name].values)\n",
    "            row.append(np.array(range(0, num_rows)))\n",
    "            col.append(np.array(num_rows * [i]))\n",
    "\n",
    "    data_f = np.concatenate(data)\n",
    "    row_f = np.concatenate(row)\n",
    "    col_f = np.concatenate(col)\n",
    "\n",
    "    arr = coo_matrix((data_f, (row_f, col_f)), df.shape, dtype=np.float64)\n",
    "    coo_mat = arr.tocsr()\n",
    "    return coo_mat\n",
    "\n",
    "coo_mat = sparse_df_to_array(df1)\n",
    "coo_mat"
   ]
  },
  {
   "cell_type": "code",
   "execution_count": 57,
   "metadata": {
    "collapsed": true
   },
   "outputs": [],
   "source": [
    "#print(coo_mat)"
   ]
  },
  {
   "cell_type": "code",
   "execution_count": null,
   "metadata": {
    "collapsed": true
   },
   "outputs": [],
   "source": []
  },
  {
   "cell_type": "code",
   "execution_count": 58,
   "metadata": {},
   "outputs": [
    {
     "data": {
      "text/plain": [
       "'model = LightFM(loss=\\'warp\\')\\nmodel.fit(data[\\'train\\'], epochs=30, num_threads=2)\\n\\nfrom lightfm.evaluation import precision_at_k\\n# Evaluate the trained model\\nprint(\"Train precision: %.2f\" % precision_at_k(model, data[\\'train\\'], k=5).mean())\\nprint(\"Test precision: %.2f\" % precision_at_k(model, data[\\'test\\'], k=5).mean())\\n\\ndef sample_recommendation(model, data, user_ids):\\n    \\n    # no. of movies and users in training data\\n    n_users, n_items = data[\\'train\\'].shape\\n    \\n    # generate recommendation for each user we input\\n    for user_id in user_ids:\\n        # movies they already like into compressed sparse row format\\n        known_positives = data[\\'item_labels\\'][data[\\'train\\'].tocsr()[user_id].indices]\\n        \\n        # predict movies ratings for all movies\\n        scores = model.predict(user_id, np.arange(n_items))\\n        # sorting the result in descending order\\n        top_items = data[\\'item_labels\\'][np.argsort(-scores)]\\n        \\n        print(\"User %s\" % user_id)\\n        print(\"     Known positives:\")\\n        \\n        for x in known_positives[:3]:\\n            print(\"        %s\" % x)\\n\\n        print(\"     Recommended:\")\\n        \\n        for x in top_items[:3]:\\n            print(\"        %s\" % x)\\n        \\nsample_recommendation(model, data, [3, 25, 450])\\n\\n'"
      ]
     },
     "execution_count": 58,
     "metadata": {},
     "output_type": "execute_result"
    }
   ],
   "source": [
    "\"\"\"model = LightFM(loss='warp')\n",
    "model.fit(data['train'], epochs=30, num_threads=2)\n",
    "\n",
    "from lightfm.evaluation import precision_at_k\n",
    "# Evaluate the trained model\n",
    "print(\"Train precision: %.2f\" % precision_at_k(model, data['train'], k=5).mean())\n",
    "print(\"Test precision: %.2f\" % precision_at_k(model, data['test'], k=5).mean())\n",
    "\n",
    "def sample_recommendation(model, data, user_ids):\n",
    "    \n",
    "    # no. of movies and users in training data\n",
    "    n_users, n_items = data['train'].shape\n",
    "    \n",
    "    # generate recommendation for each user we input\n",
    "    for user_id in user_ids:\n",
    "        # movies they already like into compressed sparse row format\n",
    "        known_positives = data['item_labels'][data['train'].tocsr()[user_id].indices]\n",
    "        \n",
    "        # predict movies ratings for all movies\n",
    "        scores = model.predict(user_id, np.arange(n_items))\n",
    "        # sorting the result in descending order\n",
    "        top_items = data['item_labels'][np.argsort(-scores)]\n",
    "        \n",
    "        print(\"User %s\" % user_id)\n",
    "        print(\"     Known positives:\")\n",
    "        \n",
    "        for x in known_positives[:3]:\n",
    "            print(\"        %s\" % x)\n",
    "\n",
    "        print(\"     Recommended:\")\n",
    "        \n",
    "        for x in top_items[:3]:\n",
    "            print(\"        %s\" % x)\n",
    "        \n",
    "sample_recommendation(model, data, [3, 25, 450])\n",
    "\n",
    "\"\"\""
   ]
  },
  {
   "cell_type": "code",
   "execution_count": 59,
   "metadata": {},
   "outputs": [
    {
     "data": {
      "text/plain": [
       "<1157x3 sparse matrix of type '<class 'numpy.float64'>'\n",
       "\twith 3471 stored elements in Compressed Sparse Row format>"
      ]
     },
     "execution_count": 59,
     "metadata": {},
     "output_type": "execute_result"
    }
   ],
   "source": [
    "coo_mat"
   ]
  },
  {
   "cell_type": "markdown",
   "metadata": {},
   "source": []
  },
  {
   "cell_type": "code",
   "execution_count": null,
   "metadata": {
    "collapsed": true
   },
   "outputs": [],
   "source": []
  },
  {
   "cell_type": "code",
   "execution_count": null,
   "metadata": {
    "collapsed": true
   },
   "outputs": [],
   "source": []
  },
  {
   "cell_type": "code",
   "execution_count": 60,
   "metadata": {},
   "outputs": [
    {
     "data": {
      "text/plain": [
       "'from sklearn import model_selection\\ntrain_data, test_data = model_selection.train_test_split(df, test_size = 0.25)\\n\\n# Creating User-Item Matrices, one for Training and other for testing\\n\\n# intantiating training data matrix with 0 value\\ntrain_data_matrix = np.zeros((n_users, n_items))\\n# iterating through the train data matrix and inputting rating\\nfor each_line in train_data.itertuples():\\n    train_data_matrix[each_line[1]-1, each_line[2]-1] = each_line[3]\\n    \\n# intantiating testing data matrix with 0 value\\ntest_data_matrix = np.zeros((n_users, n_items))\\n# iterating through the train data matrix and inputting rating\\nfor each_line in train_data.itertuples():\\n    test_data_matrix[each_line[1]-1, each_line[2]-1] = each_line[3]'"
      ]
     },
     "execution_count": 60,
     "metadata": {},
     "output_type": "execute_result"
    }
   ],
   "source": [
    "\"\"\"from sklearn import model_selection\n",
    "train_data, test_data = model_selection.train_test_split(df, test_size = 0.25)\n",
    "\n",
    "# Creating User-Item Matrices, one for Training and other for testing\n",
    "\n",
    "# intantiating training data matrix with 0 value\n",
    "train_data_matrix = np.zeros((n_users, n_items))\n",
    "# iterating through the train data matrix and inputting rating\n",
    "for each_line in train_data.itertuples():\n",
    "    train_data_matrix[each_line[1]-1, each_line[2]-1] = each_line[3]\n",
    "    \n",
    "# intantiating testing data matrix with 0 value\n",
    "test_data_matrix = np.zeros((n_users, n_items))\n",
    "# iterating through the train data matrix and inputting rating\n",
    "for each_line in train_data.itertuples():\n",
    "    test_data_matrix[each_line[1]-1, each_line[2]-1] = each_line[3]\"\"\""
   ]
  },
  {
   "cell_type": "code",
   "execution_count": 61,
   "metadata": {},
   "outputs": [
    {
     "data": {
      "text/plain": [
       "132560"
      ]
     },
     "execution_count": 61,
     "metadata": {},
     "output_type": "execute_result"
    }
   ],
   "source": [
    "rest_name.placeID.min()"
   ]
  },
  {
   "cell_type": "code",
   "execution_count": 62,
   "metadata": {},
   "outputs": [
    {
     "data": {
      "text/plain": [
       "135109"
      ]
     },
     "execution_count": 62,
     "metadata": {},
     "output_type": "execute_result"
    }
   ],
   "source": [
    "rest_name.placeID.max()"
   ]
  },
  {
   "cell_type": "code",
   "execution_count": 63,
   "metadata": {},
   "outputs": [
    {
     "data": {
      "text/plain": [
       "2549"
      ]
     },
     "execution_count": 63,
     "metadata": {},
     "output_type": "execute_result"
    }
   ],
   "source": [
    "rest_name.placeID.max()-rest_name.placeID.min()"
   ]
  },
  {
   "cell_type": "code",
   "execution_count": 64,
   "metadata": {},
   "outputs": [
    {
     "data": {
      "text/plain": [
       "138"
      ]
     },
     "execution_count": 64,
     "metadata": {},
     "output_type": "execute_result"
    }
   ],
   "source": [
    "n_users"
   ]
  },
  {
   "cell_type": "code",
   "execution_count": 3,
   "metadata": {
    "collapsed": true
   },
   "outputs": [],
   "source": [
    "data = np.zeros((n_users, n_items))\n",
    "# iterating through the train data matrix and inputting rating\n",
    "for each_line in df1.itertuples():\n",
    "    data[each_line[1]-1, each_line[2]-1] = each_line[3]"
   ]
  },
  {
   "cell_type": "code",
   "execution_count": 16,
   "metadata": {},
   "outputs": [
    {
     "data": {
      "text/plain": [
       "(138, 130)"
      ]
     },
     "execution_count": 16,
     "metadata": {},
     "output_type": "execute_result"
    }
   ],
   "source": [
    "data.shape"
   ]
  },
  {
   "cell_type": "code",
   "execution_count": 4,
   "metadata": {
    "collapsed": true
   },
   "outputs": [],
   "source": [
    "data = sparse.coo_matrix(data)"
   ]
  },
  {
   "cell_type": "code",
   "execution_count": 68,
   "metadata": {},
   "outputs": [
    {
     "name": "stdout",
     "output_type": "stream",
     "text": [
      "116                     Restaurante Tiberius\n",
      "90                           Pizzeria Julios\n",
      "121                   Tortas Locas Hipocampo\n",
      "13                 Restaurante Pueblo Bonito\n",
      "32     La Fontana Pizza Restaurante and Cafe\n",
      "Name: name, dtype: object\n",
      "26           Mariscos Tia Licha\n",
      "112    Restaurant Las Mananitas\n",
      "100        Sanborns Casa Piedra\n",
      "64                       Subway\n",
      "48                         Vips\n",
      "Name: name, dtype: object\n"
     ]
    }
   ],
   "source": [
    "#create model\n",
    "model = LightFM(loss='warp')\n",
    "#train model\n",
    "model.fit(data, epochs=30, num_threads=2)\n",
    "\n",
    "# Print training data\n",
    "#print(data)\n",
    "\n",
    "def sample_recommendation(model, data, user_ids):\n",
    "\n",
    "    #number of users and movies in training data\n",
    "    n_users, n_items = data.shape\n",
    "\n",
    "    #generate recommendations for each user we input\n",
    "    for user_id in user_ids:\n",
    "\n",
    "        #movies our model predicts they will like\n",
    "        scores = model.predict(user_id, np.arange(n_items))\n",
    "        #print(scores)\n",
    "\n",
    "        #rank them in order of most liked to least\n",
    "        top_items = rest_name.name[np.argsort(-scores)]\n",
    "\n",
    "        print(top_items[:5])\n",
    "\n",
    "sample_recommendation(model, data, [9,78])"
   ]
  },
  {
   "cell_type": "code",
   "execution_count": 11,
   "metadata": {},
   "outputs": [
    {
     "name": "stdout",
     "output_type": "stream",
     "text": [
      "Train precision: 0.62\n",
      "Test precision: 0.62\n",
      "1                           puesto de tacos\n",
      "74           Restaurante Casa de las Flores\n",
      "116                    Restaurante Tiberius\n",
      "47     Restaurant Bar Hacienda los Martinez\n",
      "59      Restaurante El Chivero S.A. de C.V.\n",
      "Name: name, dtype: object\n",
      "26           Mariscos Tia Licha\n",
      "112    Restaurant Las Mananitas\n",
      "100        Sanborns Casa Piedra\n",
      "64                       Subway\n",
      "114                      Mikasa\n",
      "Name: name, dtype: object\n"
     ]
    }
   ],
   "source": [
    "############ Final model Traning and testing data ####################\n",
    "\n",
    "import pandas as pd\n",
    "import numpy as np\n",
    "from lightfm import LightFM\n",
    "from scipy import sparse\n",
    "from scipy.sparse import coo_matrix\n",
    "from lightfm.evaluation import precision_at_k\n",
    "\n",
    "df = pd.read_csv('C:/Users/hp/Documents/JupyterDemo/Data Food Items/rating_final.csv', sep = ',', header = 0)\n",
    "rest_name = pd.read_csv('C:/Users/hp/Documents/JupyterDemo/Data Food Items/geoplaces2.csv', sep = ',', header = 0, encoding = \"ISO-8859-1\")\n",
    "users = pd.read_csv('C:/Users/hp/Documents/JupyterDemo/Data Food Items/userprofile.csv', sep = ',', header = 0)\n",
    "rest_name = rest_name.loc[:,[\"placeID\", \"name\"]]\n",
    "rest_name['rest_col'] = pd.DataFrame(np.arange(1,rest_name.shape[0]))\n",
    "users = users.loc[:,['userID']]\n",
    "df['user_row'] = pd.to_numeric(df.userID.str.replace('[^0-9]',\"\"), errors = 'coerce') - 1000\n",
    "df['final_rating'] = np.mean(df.loc[:,[\"rating\",\"food_rating\",\"service_rating\"]], axis = 1)\n",
    "df = pd.merge(df, rest_name, on='placeID', how='inner')\n",
    "df1 = df.loc[:,[\"user_row\",\"rest_col\",\"final_rating\"]]\n",
    "df1 = df1.dropna(axis = 0)\n",
    "# df1[pd.isnull(df1).any(axis=1)]\n",
    "df1['rest_col'] = df1['rest_col'].astype(int)\n",
    "\n",
    "# Splitting the Data\n",
    "from sklearn import model_selection\n",
    "train_data, test_data = model_selection.train_test_split(df1, test_size = 0.25)\n",
    "\n",
    "n_users = users.shape[0]\n",
    "n_items = rest_name.shape[0]\n",
    "\n",
    "# Creating User-Item Matrices, one for Training and other for testing\n",
    "\n",
    "# intantiating training data matrix with 0 value\n",
    "train_data_matrix = np.zeros((n_users, n_items))\n",
    "# iterating through the train data matrix and inputting rating\n",
    "for each_line in train_data.itertuples():\n",
    "    train_data_matrix[each_line[1]-1, each_line[2]-1] = each_line[3]\n",
    "    \n",
    "# intantiating testing data matrix with 0 value\n",
    "test_data_matrix = np.zeros((n_users, n_items))\n",
    "# iterating through the train data matrix and inputting rating\n",
    "for each_line in train_data.itertuples():\n",
    "    test_data_matrix[each_line[1]-1, each_line[2]-1] = each_line[3]\n",
    "    \n",
    "train_data_matrix = sparse.coo_matrix(train_data_matrix)\n",
    "test_data_matrix = sparse.coo_matrix(test_data_matrix)\n",
    "\n",
    "#create model\n",
    "model = LightFM(loss='warp')\n",
    "#train model\n",
    "model.fit(train_data_matrix, epochs=30, num_threads=2)\n",
    "\n",
    "# Evaluate the trained model\n",
    "print(\"Train precision: %.2f\" % precision_at_k(model, train_data_matrix, k=5).mean())\n",
    "print(\"Test precision: %.2f\" % precision_at_k(model, test_data_matrix, k=5).mean())\n",
    "\n",
    "data = np.zeros((n_users, n_items))\n",
    "# iterating through the train data matrix and inputting rating\n",
    "for each_line in df1.itertuples():\n",
    "    data[each_line[1]-1, each_line[2]-1] = each_line[3]\n",
    "    \n",
    "data = sparse.coo_matrix(data)\n",
    "\n",
    "def sample_recommendation(model, data, user_ids):\n",
    "    #number of users and movies in training data\n",
    "    n_users, n_items = train_data_matrix.shape\n",
    "\n",
    "    #generate recommendations for each user we input\n",
    "    for user_id in user_ids:\n",
    "\n",
    "        #movies our model predicts they will like\n",
    "        scores = model.predict(user_id, np.arange(n_items))\n",
    "        #print(scores)\n",
    "\n",
    "        #rank them in order of most liked to least\n",
    "        top_items = rest_name.name[np.argsort(-scores)]\n",
    "\n",
    "        print(top_items[:5])\n",
    "\n",
    "sample_recommendation(model, data, [9,78])"
   ]
  },
  {
   "cell_type": "code",
   "execution_count": 12,
   "metadata": {},
   "outputs": [
    {
     "data": {
      "image/png": "[encoded data removed]",
      "text/plain": [
       "<matplotlib.figure.Figure at 0x28a94fa6cc0>"
      ]
     },
     "metadata": {},
     "output_type": "display_data"
    }
   ],
   "source": [
    "%matplotlib inline\n",
    "\n",
    "import matplotlib\n",
    "import numpy as np\n",
    "import matplotlib.pyplot as plt\n",
    "\n",
    "from lightfm import LightFM\n",
    "from lightfm.evaluation import auc_score\n",
    "\n",
    "\n",
    "alpha = 1e-3\n",
    "epochs = 70\n",
    "\n",
    "df = pd.read_csv('C:/Users/hp/Documents/JupyterDemo/Data Food Items/rating_final.csv', sep = ',', header = 0)\n",
    "rest_name = pd.read_csv('C:/Users/hp/Documents/JupyterDemo/Data Food Items/geoplaces2.csv', sep = ',', header = 0, encoding = \"ISO-8859-1\")\n",
    "users = pd.read_csv('C:/Users/hp/Documents/JupyterDemo/Data Food Items/userprofile.csv', sep = ',', header = 0)\n",
    "rest_name = rest_name.loc[:,[\"placeID\", \"name\"]]\n",
    "rest_name['rest_col'] = pd.DataFrame(np.arange(1,rest_name.shape[0]))\n",
    "users = users.loc[:,['userID']]\n",
    "df['user_row'] = pd.to_numeric(df.userID.str.replace('[^0-9]',\"\"), errors = 'coerce') - 1000\n",
    "df['final_rating'] = np.mean(df.loc[:,[\"rating\",\"food_rating\",\"service_rating\"]], axis = 1)\n",
    "df = pd.merge(df, rest_name, on='placeID', how='inner')\n",
    "df1 = df.loc[:,[\"user_row\",\"rest_col\",\"final_rating\"]]\n",
    "df1 = df1.dropna(axis = 0)\n",
    "# df1[pd.isnull(df1).any(axis=1)]\n",
    "df1['rest_col'] = df1['rest_col'].astype(int)\n",
    "\n",
    "# Splitting the Data\n",
    "from sklearn import model_selection\n",
    "train_data, test_data = model_selection.train_test_split(df1, test_size = 0.25)\n",
    "\n",
    "n_users = users.shape[0]\n",
    "n_items = rest_name.shape[0]\n",
    "\n",
    "# Creating User-Item Matrices, one for Training and other for testing\n",
    "\n",
    "# intantiating training data matrix with 0 value\n",
    "train_data_matrix = np.zeros((n_users, n_items))\n",
    "# iterating through the train data matrix and inputting rating\n",
    "for each_line in train_data.itertuples():\n",
    "    train_data_matrix[each_line[1]-1, each_line[2]-1] = each_line[3]\n",
    "    \n",
    "# intantiating testing data matrix with 0 value\n",
    "test_data_matrix = np.zeros((n_users, n_items))\n",
    "# iterating through the train data matrix and inputting rating\n",
    "for each_line in train_data.itertuples():\n",
    "    test_data_matrix[each_line[1]-1, each_line[2]-1] = each_line[3]\n",
    "    \n",
    "train_data_matrix = sparse.coo_matrix(train_data_matrix)\n",
    "test_data_matrix = sparse.coo_matrix(test_data_matrix)\n",
    "\n",
    "adagrad_model = LightFM(no_components=30,\n",
    "                        loss='warp',\n",
    "                        learning_schedule='adagrad',\n",
    "                        user_alpha=alpha,\n",
    "                        item_alpha=alpha)\n",
    "adadelta_model = LightFM(no_components=30,\n",
    "                        loss='warp',\n",
    "                        learning_schedule='adadelta',\n",
    "                        user_alpha=alpha,\n",
    "                        item_alpha=alpha)\n",
    "\n",
    "adagrad_auc = []\n",
    "\n",
    "for epoch in range(epochs):\n",
    "    adagrad_model.fit_partial(train_data_matrix, epochs=1)\n",
    "    adagrad_auc.append(auc_score(adagrad_model, test_data_matrix).mean())\n",
    "    \n",
    "    \n",
    "adadelta_auc = []\n",
    "\n",
    "for epoch in range(epochs):\n",
    "    adadelta_model.fit_partial(train_data_matrix, epochs=1)\n",
    "    adadelta_auc.append(auc_score(adadelta_model, test_data_matrix).mean())\n",
    "    \n",
    "x = np.arange(len(adagrad_auc))\n",
    "plt.plot(x, np.array(adagrad_auc))\n",
    "plt.plot(x, np.array(adadelta_auc))\n",
    "plt.legend(['adagrad', 'adadelta'], loc='lower right')\n",
    "plt.show()"
   ]
  },
  {
   "cell_type": "code",
   "execution_count": 77,
   "metadata": {},
   "outputs": [
    {
     "data": {
      "text/plain": [
       "1157"
      ]
     },
     "execution_count": 77,
     "metadata": {},
     "output_type": "execute_result"
    }
   ],
   "source": [
    "df2.shape[0]"
   ]
  },
  {
   "cell_type": "code",
   "execution_count": 75,
   "metadata": {},
   "outputs": [
    {
     "data": {
      "text/html": [
       "<div>\n",
       "<style scoped>\n",
       "    .dataframe tbody tr th:only-of-type {\n",
       "        vertical-align: middle;\n",
       "    }\n",
       "\n",
       "    .dataframe tbody tr th {\n",
       "        vertical-align: top;\n",
       "    }\n",
       "\n",
       "    .dataframe thead th {\n",
       "        text-align: right;\n",
       "    }\n",
       "</style>\n",
       "<table border=\"1\" class=\"dataframe\">\n",
       "  <thead>\n",
       "    <tr style=\"text-align: right;\">\n",
       "      <th></th>\n",
       "      <th>user_row</th>\n",
       "      <th>rest_col</th>\n",
       "      <th>rating</th>\n",
       "    </tr>\n",
       "  </thead>\n",
       "  <tbody>\n",
       "    <tr>\n",
       "      <th>0</th>\n",
       "      <td>77</td>\n",
       "      <td>122</td>\n",
       "      <td>2</td>\n",
       "    </tr>\n",
       "    <tr>\n",
       "      <th>1</th>\n",
       "      <td>108</td>\n",
       "      <td>122</td>\n",
       "      <td>1</td>\n",
       "    </tr>\n",
       "    <tr>\n",
       "      <th>2</th>\n",
       "      <td>81</td>\n",
       "      <td>122</td>\n",
       "      <td>1</td>\n",
       "    </tr>\n",
       "    <tr>\n",
       "      <th>3</th>\n",
       "      <td>56</td>\n",
       "      <td>122</td>\n",
       "      <td>2</td>\n",
       "    </tr>\n",
       "    <tr>\n",
       "      <th>4</th>\n",
       "      <td>134</td>\n",
       "      <td>122</td>\n",
       "      <td>2</td>\n",
       "    </tr>\n",
       "  </tbody>\n",
       "</table>\n",
       "</div>"
      ],
      "text/plain": [
       "   user_row  rest_col  rating\n",
       "0        77       122       2\n",
       "1       108       122       1\n",
       "2        81       122       1\n",
       "3        56       122       2\n",
       "4       134       122       2"
      ]
     },
     "execution_count": 75,
     "metadata": {},
     "output_type": "execute_result"
    }
   ],
   "source": [
    "########################################## Adding columns to csv file #########################################################\n",
    "df2.to_csv('newProcessedDf.csv')\n",
    "name = int(input(\"What's your name? : \"))\n",
    "item = int(input(\"Item I like is : \"))\n",
    "rating = int(input(\"Enter Rating : \"))\n",
    "text = \"%s,%s,%s,%s\\n\"%(df2.shape[0]+1, name, item, rating)\n",
    "saveFile = open(\"newProcessedDf.csv\", \"a\")\n",
    "saveFile.write(text)\n",
    "saveFile.close()\n",
    "df1 = pd.read_csv('C:/Users/hp/Documents/JupyterDemo/newProcessedDf.csv', sep = ',', header = 0, index_col = 0)\n",
    "df1.head()"
   ]
  },
  {
   "cell_type": "code",
   "execution_count": 76,
   "metadata": {},
   "outputs": [
    {
     "data": {
      "text/html": [
       "<div>\n",
       "<style scoped>\n",
       "    .dataframe tbody tr th:only-of-type {\n",
       "        vertical-align: middle;\n",
       "    }\n",
       "\n",
       "    .dataframe tbody tr th {\n",
       "        vertical-align: top;\n",
       "    }\n",
       "\n",
       "    .dataframe thead th {\n",
       "        text-align: right;\n",
       "    }\n",
       "</style>\n",
       "<table border=\"1\" class=\"dataframe\">\n",
       "  <thead>\n",
       "    <tr style=\"text-align: right;\">\n",
       "      <th></th>\n",
       "      <th>userID</th>\n",
       "      <th>placeID</th>\n",
       "      <th>rating</th>\n",
       "      <th>food_rating</th>\n",
       "      <th>service_rating</th>\n",
       "      <th>user_row</th>\n",
       "      <th>final_rating</th>\n",
       "    </tr>\n",
       "  </thead>\n",
       "  <tbody>\n",
       "    <tr>\n",
       "      <th>0</th>\n",
       "      <td>U1077</td>\n",
       "      <td>135085</td>\n",
       "      <td>2</td>\n",
       "      <td>2</td>\n",
       "      <td>2</td>\n",
       "      <td>77</td>\n",
       "      <td>2.000000</td>\n",
       "    </tr>\n",
       "    <tr>\n",
       "      <th>1</th>\n",
       "      <td>U1077</td>\n",
       "      <td>135038</td>\n",
       "      <td>2</td>\n",
       "      <td>2</td>\n",
       "      <td>1</td>\n",
       "      <td>77</td>\n",
       "      <td>1.666667</td>\n",
       "    </tr>\n",
       "    <tr>\n",
       "      <th>2</th>\n",
       "      <td>U1077</td>\n",
       "      <td>132825</td>\n",
       "      <td>2</td>\n",
       "      <td>2</td>\n",
       "      <td>2</td>\n",
       "      <td>77</td>\n",
       "      <td>2.000000</td>\n",
       "    </tr>\n",
       "    <tr>\n",
       "      <th>3</th>\n",
       "      <td>U1077</td>\n",
       "      <td>135060</td>\n",
       "      <td>1</td>\n",
       "      <td>2</td>\n",
       "      <td>2</td>\n",
       "      <td>77</td>\n",
       "      <td>1.666667</td>\n",
       "    </tr>\n",
       "    <tr>\n",
       "      <th>4</th>\n",
       "      <td>U1068</td>\n",
       "      <td>135104</td>\n",
       "      <td>1</td>\n",
       "      <td>1</td>\n",
       "      <td>2</td>\n",
       "      <td>68</td>\n",
       "      <td>1.333333</td>\n",
       "    </tr>\n",
       "  </tbody>\n",
       "</table>\n",
       "</div>"
      ],
      "text/plain": [
       "  userID  placeID  rating  food_rating  service_rating  user_row  final_rating\n",
       "0  U1077   135085       2            2               2        77      2.000000\n",
       "1  U1077   135038       2            2               1        77      1.666667\n",
       "2  U1077   132825       2            2               2        77      2.000000\n",
       "3  U1077   135060       1            2               2        77      1.666667\n",
       "4  U1068   135104       1            1               2        68      1.333333"
      ]
     },
     "execution_count": 76,
     "metadata": {},
     "output_type": "execute_result"
    }
   ],
   "source": [
    "df.head()"
   ]
  },
  {
   "cell_type": "code",
   "execution_count": 15,
   "metadata": {},
   "outputs": [
    {
     "data": {
      "text/plain": [
       "'83    tortas hawai\\nName: name, dtype: object'"
      ]
     },
     "execution_count": 15,
     "metadata": {},
     "output_type": "execute_result"
    }
   ],
   "source": [
    "################################ Data Firebase Work Integration###############################################################\n",
    "import pandas as pd\n",
    "import numpy as np\n",
    "from lightfm import LightFM\n",
    "from scipy import sparse\n",
    "from scipy.sparse import coo_matrix\n",
    "from lightfm.evaluation import precision_at_k\n",
    "\n",
    "df = pd.read_csv('C:/Users/hp/Documents/JupyterDemo/Data Food Items/rating_final.csv', sep = ',', header = 0)\n",
    "rest_name = pd.read_csv('C:/Users/hp/Documents/JupyterDemo/Data Food Items/geoplaces2.csv', sep = ',', header = 0, encoding = \"ISO-8859-1\")\n",
    "users = pd.read_csv('C:/Users/hp/Documents/JupyterDemo/Data Food Items/userprofile.csv', sep = ',', header = 0)\n",
    "rest_name = rest_name.loc[:,[\"placeID\", \"name\"]]\n",
    "rest_name['rest_col'] = pd.DataFrame(np.arange(1,rest_name.shape[0]))\n",
    "users = users.loc[:,['userID']]\n",
    "df['user_row'] = pd.to_numeric(df.userID.str.replace('[^0-9]',\"\"), errors = 'coerce') - 1000\n",
    "df['final_rating'] = np.mean(df.loc[:,[\"rating\",\"food_rating\",\"service_rating\"]], axis = 1)\n",
    "df = pd.merge(df, rest_name, on='placeID', how='inner')\n",
    "df1 = df.loc[:,[\"user_row\",\"rest_col\",\"final_rating\"]]\n",
    "df1 = df1.dropna(axis = 0)\n",
    "# df1[pd.isnull(df1).any(axis=1)]\n",
    "df1['rest_col'] = df1['rest_col'].astype(int)\n",
    "\n",
    "data = np.zeros((n_users, n_items))\n",
    "# iterating through the train data matrix and inputting rating\n",
    "for each_line in df1.itertuples():\n",
    "    data[each_line[1]-1, each_line[2]-1] = each_line[3]\n",
    "    \n",
    "data = sparse.coo_matrix(data)\n",
    "\n",
    "#create model\n",
    "model = LightFM(no_components=30, loss='warp', learning_schedule='adagrad')\n",
    "#train model\n",
    "model.fit(data, epochs=30, num_threads=2)\n",
    "\n",
    "# Print training data\n",
    "#print(data)\n",
    "\n",
    "def sample_recommendation(model, data, user_ids):\n",
    "\n",
    "    #number of users and movies in training data\n",
    "    n_users, n_items = data.shape\n",
    "\n",
    "    #generate recommendations for each user we input\n",
    "    for user_id in user_ids:\n",
    "\n",
    "        #movies our model predicts they will like\n",
    "        scores = model.predict(user_id, np.arange(n_items))\n",
    "        #print(scores)\n",
    "\n",
    "        #rank them in order of most liked to least\n",
    "        top_items = rest_name.name[np.argsort(-scores)]\n",
    "\n",
    "        #print(top_items[:5])\n",
    "        \n",
    "        return str(top_items[1:2])\n",
    "\n",
    "sample_recommendation(model, data, [10])"
   ]
  },
  {
   "cell_type": "code",
   "execution_count": 16,
   "metadata": {
    "collapsed": true
   },
   "outputs": [],
   "source": [
    "recommendation = {}\n",
    "for i in np.arange(1, users.shape[0]):\n",
    "    recommendation[i] = sample_recommendation(model, data, np.linspace(i,1))"
   ]
  },
  {
   "cell_type": "code",
   "execution_count": 17,
   "metadata": {},
   "outputs": [
    {
     "data": {
      "text/plain": [
       "{1: '45    el pueblito\\nName: name, dtype: object',\n",
       " 2: '1    puesto de tacos\\nName: name, dtype: object',\n",
       " 3: '119    Cafeteria y Restaurant El Pacifico\\nName: name, dtype: object',\n",
       " 4: '52    Restaurante Guerra\\nName: name, dtype: object',\n",
       " 5: '92    Cafe Chaires\\nName: name, dtype: object',\n",
       " 6: '119    Cafeteria y Restaurant El Pacifico\\nName: name, dtype: object',\n",
       " 7: '23    KFC\\nName: name, dtype: object',\n",
       " 8: '1    puesto de tacos\\nName: name, dtype: object',\n",
       " 9: '116    Restaurante Tiberius\\nName: name, dtype: object',\n",
       " 10: '83    tortas hawai\\nName: name, dtype: object',\n",
       " 11: '48    Vips\\nName: name, dtype: object',\n",
       " 12: '121    Tortas Locas Hipocampo\\nName: name, dtype: object',\n",
       " 13: '33    Restaurante la Estrella de Dima\\nName: name, dtype: object',\n",
       " 14: '125    Chaires\\nName: name, dtype: object',\n",
       " 15: '113    Restaurante El Cielo Potosino\\nName: name, dtype: object',\n",
       " 16: '48    Vips\\nName: name, dtype: object',\n",
       " 17: '113    Restaurante El Cielo Potosino\\nName: name, dtype: object',\n",
       " 18: '1    puesto de tacos\\nName: name, dtype: object',\n",
       " 19: '26    Mariscos Tia Licha\\nName: name, dtype: object',\n",
       " 20: '96    tacos de la estacion\\nName: name, dtype: object',\n",
       " 21: '63    Restaurante Versalles\\nName: name, dtype: object',\n",
       " 22: '73    palomo tec\\nName: name, dtype: object',\n",
       " 23: '35    Preambulo Wifi Zone Cafe\\nName: name, dtype: object',\n",
       " 24: '29    don burguers\\nName: name, dtype: object',\n",
       " 25: '76    TACOS CORRECAMINOS\\nName: name, dtype: object',\n",
       " 26: '75    VIPS\\nName: name, dtype: object',\n",
       " 27: '6    Taqueria EL amigo \\nName: name, dtype: object',\n",
       " 28: '121    Tortas Locas Hipocampo\\nName: name, dtype: object',\n",
       " 29: '112    Restaurant Las Mananitas\\nName: name, dtype: object',\n",
       " 30: '1    puesto de tacos\\nName: name, dtype: object',\n",
       " 31: '54    Restaurante Marisco Sam\\nName: name, dtype: object',\n",
       " 32: '120    La Virreina\\nName: name, dtype: object',\n",
       " 33: '14    Mcdonalds Parque Tangamanga\\nName: name, dtype: object',\n",
       " 34: '112    Restaurant Las Mananitas\\nName: name, dtype: object',\n",
       " 35: '1    puesto de tacos\\nName: name, dtype: object',\n",
       " 36: '16    Sirlone\\nName: name, dtype: object',\n",
       " 37: '68    Hamburguesas Valle Dorado\\nName: name, dtype: object',\n",
       " 38: '89    Gorditas Dona Tota\\nName: name, dtype: object',\n",
       " 39: '128    Restaurant Bar Coty y Pablo\\nName: name, dtype: object',\n",
       " 40: '64    Subway\\nName: name, dtype: object',\n",
       " 41: '100    Sanborns Casa Piedra\\nName: name, dtype: object',\n",
       " 42: '6    Taqueria EL amigo \\nName: name, dtype: object',\n",
       " 43: '115    Cafeteria cenidet\\nName: name, dtype: object',\n",
       " 44: '65    La Cantina Restaurante\\nName: name, dtype: object',\n",
       " 45: '110    crudalia\\nName: name, dtype: object',\n",
       " 46: '1    puesto de tacos\\nName: name, dtype: object',\n",
       " 47: '69    la Cantina\\nName: name, dtype: object',\n",
       " 48: '1    puesto de tacos\\nName: name, dtype: object',\n",
       " 49: '6    Taqueria EL amigo \\nName: name, dtype: object',\n",
       " 50: '115    Cafeteria cenidet\\nName: name, dtype: object',\n",
       " 51: '125    Chaires\\nName: name, dtype: object',\n",
       " 52: '13    Restaurante Pueblo Bonito\\nName: name, dtype: object',\n",
       " 53: '119    Cafeteria y Restaurant El Pacifico\\nName: name, dtype: object',\n",
       " 54: '92    Cafe Chaires\\nName: name, dtype: object',\n",
       " 55: '121    Tortas Locas Hipocampo\\nName: name, dtype: object',\n",
       " 56: '80    Gorditas Doa Gloria\\nName: name, dtype: object',\n",
       " 57: '13    Restaurante Pueblo Bonito\\nName: name, dtype: object',\n",
       " 58: '108    Mariscos El Pescador\\nName: name, dtype: object',\n",
       " 59: '43    churchs\\nName: name, dtype: object',\n",
       " 60: '108    Mariscos El Pescador\\nName: name, dtype: object',\n",
       " 61: '1    puesto de tacos\\nName: name, dtype: object',\n",
       " 62: '72    vips\\nName: name, dtype: object',\n",
       " 63: '54    Restaurante Marisco Sam\\nName: name, dtype: object',\n",
       " 64: '76    TACOS CORRECAMINOS\\nName: name, dtype: object',\n",
       " 65: '24    Giovannis\\nName: name, dtype: object',\n",
       " 66: '6    Taqueria EL amigo \\nName: name, dtype: object',\n",
       " 67: '72    vips\\nName: name, dtype: object',\n",
       " 68: '29    don burguers\\nName: name, dtype: object',\n",
       " 69: '8    Pollo_Frito_Buenos_Aires\\nName: name, dtype: object',\n",
       " 70: '54    Restaurante Marisco Sam\\nName: name, dtype: object',\n",
       " 71: '71    Arrachela Grill\\nName: name, dtype: object',\n",
       " 72: '119    Cafeteria y Restaurant El Pacifico\\nName: name, dtype: object',\n",
       " 73: '107    Log Yin\\nName: name, dtype: object',\n",
       " 74: '113    Restaurante El Cielo Potosino\\nName: name, dtype: object',\n",
       " 75: '105    Restaurante Bar El Gallinero\\nName: name, dtype: object',\n",
       " 76: '60    Restaurant la Chalita\\nName: name, dtype: object',\n",
       " 77: '54    Restaurante Marisco Sam\\nName: name, dtype: object',\n",
       " 78: '26    Mariscos Tia Licha\\nName: name, dtype: object',\n",
       " 79: '43    churchs\\nName: name, dtype: object',\n",
       " 80: '121    Tortas Locas Hipocampo\\nName: name, dtype: object',\n",
       " 81: '73    palomo tec\\nName: name, dtype: object',\n",
       " 82: '57    Restaurante la Parroquia Potosina\\nName: name, dtype: object',\n",
       " 83: '121    Tortas Locas Hipocampo\\nName: name, dtype: object',\n",
       " 84: '102    pizza clasica\\nName: name, dtype: object',\n",
       " 85: '121    Tortas Locas Hipocampo\\nName: name, dtype: object',\n",
       " 86: '6    Taqueria EL amigo \\nName: name, dtype: object',\n",
       " 87: '56    Potzocalli\\nName: name, dtype: object',\n",
       " 88: '110    crudalia\\nName: name, dtype: object',\n",
       " 89: '113    Restaurante El Cielo Potosino\\nName: name, dtype: object',\n",
       " 90: '14    Mcdonalds Parque Tangamanga\\nName: name, dtype: object',\n",
       " 91: '62    Gordas de morales\\nName: name, dtype: object',\n",
       " 92: '0    Kiku Cuernavaca\\nName: name, dtype: object',\n",
       " 93: '56    Potzocalli\\nName: name, dtype: object',\n",
       " 94: '90    Pizzeria Julios\\nName: name, dtype: object',\n",
       " 95: '126    Sushi Itto\\nName: name, dtype: object',\n",
       " 96: '69    la Cantina\\nName: name, dtype: object',\n",
       " 97: '121    Tortas Locas Hipocampo\\nName: name, dtype: object',\n",
       " 98: '54    Restaurante Marisco Sam\\nName: name, dtype: object',\n",
       " 99: '48    Vips\\nName: name, dtype: object',\n",
       " 100: '99    Restaurant de Mariscos de Picon\\nName: name, dtype: object',\n",
       " 101: '68    Hamburguesas Valle Dorado\\nName: name, dtype: object',\n",
       " 102: '94    Little Cesarz\\nName: name, dtype: object',\n",
       " 103: '65    La Cantina Restaurante\\nName: name, dtype: object',\n",
       " 104: '1    puesto de tacos\\nName: name, dtype: object',\n",
       " 105: '21    La Posada del Virrey\\nName: name, dtype: object',\n",
       " 106: '118    Gorditas Dona Tota\\nName: name, dtype: object',\n",
       " 107: '42    Restaurante El Reyecito\\nName: name, dtype: object',\n",
       " 108: '121    Tortas Locas Hipocampo\\nName: name, dtype: object',\n",
       " 109: '24    Giovannis\\nName: name, dtype: object',\n",
       " 110: '23    KFC\\nName: name, dtype: object',\n",
       " 111: '21    La Posada del Virrey\\nName: name, dtype: object',\n",
       " 112: '121    Tortas Locas Hipocampo\\nName: name, dtype: object',\n",
       " 113: '116    Restaurante Tiberius\\nName: name, dtype: object',\n",
       " 114: '56    Potzocalli\\nName: name, dtype: object',\n",
       " 115: '65    La Cantina Restaurante\\nName: name, dtype: object',\n",
       " 116: '88    El cotorreo\\nName: name, dtype: object',\n",
       " 117: '100    Sanborns Casa Piedra\\nName: name, dtype: object',\n",
       " 118: '48    Vips\\nName: name, dtype: object',\n",
       " 119: '56    Potzocalli\\nName: name, dtype: object',\n",
       " 120: '24    Giovannis\\nName: name, dtype: object',\n",
       " 121: '59    Restaurante El Chivero S.A. de C.V.\\nName: name, dtype: object',\n",
       " 122: '72    vips\\nName: name, dtype: object',\n",
       " 123: '56    Potzocalli\\nName: name, dtype: object',\n",
       " 124: '61    El Club\\nName: name, dtype: object',\n",
       " 125: '56    Potzocalli\\nName: name, dtype: object',\n",
       " 126: '100    Sanborns Casa Piedra\\nName: name, dtype: object',\n",
       " 127: '1    puesto de tacos\\nName: name, dtype: object',\n",
       " 128: '27    cafe ambar\\nName: name, dtype: object',\n",
       " 129: '76    TACOS CORRECAMINOS\\nName: name, dtype: object',\n",
       " 130: '125    Chaires\\nName: name, dtype: object',\n",
       " 131: '1    puesto de tacos\\nName: name, dtype: object',\n",
       " 132: '22    Restaurant and Bar and Clothesline Carlos N Ch...\\nName: name, dtype: object',\n",
       " 133: '47    Restaurant Bar Hacienda los Martinez\\nName: name, dtype: object',\n",
       " 134: '1    puesto de tacos\\nName: name, dtype: object',\n",
       " 135: '59    Restaurante El Chivero S.A. de C.V.\\nName: name, dtype: object',\n",
       " 136: '116    Restaurante Tiberius\\nName: name, dtype: object',\n",
       " 137: '95    cafe punta del cielo\\nName: name, dtype: object'}"
      ]
     },
     "execution_count": 17,
     "metadata": {},
     "output_type": "execute_result"
    }
   ],
   "source": [
    "recommendation"
   ]
  },
  {
   "cell_type": "code",
   "execution_count": 21,
   "metadata": {},
   "outputs": [
    {
     "ename": "KeyboardInterrupt",
     "evalue": "",
     "output_type": "error",
     "traceback": [
      "\u001b[1;31m---------------------------------------------------------------------------\u001b[0m",
      "\u001b[1;31mTypeError\u001b[0m                                 Traceback (most recent call last)",
      "\u001b[1;32m~\\Anaconda3\\lib\\site-packages\\requests\\packages\\urllib3\\connectionpool.py\u001b[0m in \u001b[0;36m_make_request\u001b[1;34m(self, conn, method, url, timeout, chunked, **httplib_request_kw)\u001b[0m\n\u001b[0;32m    385\u001b[0m             \u001b[1;32mtry\u001b[0m\u001b[1;33m:\u001b[0m  \u001b[1;31m# Python 2.7, use buffering of HTTP responses\u001b[0m\u001b[1;33m\u001b[0m\u001b[0m\n\u001b[1;32m--> 386\u001b[1;33m                 \u001b[0mhttplib_response\u001b[0m \u001b[1;33m=\u001b[0m \u001b[0mconn\u001b[0m\u001b[1;33m.\u001b[0m\u001b[0mgetresponse\u001b[0m\u001b[1;33m(\u001b[0m\u001b[0mbuffering\u001b[0m\u001b[1;33m=\u001b[0m\u001b[1;32mTrue\u001b[0m\u001b[1;33m)\u001b[0m\u001b[1;33m\u001b[0m\u001b[0m\n\u001b[0m\u001b[0;32m    387\u001b[0m             \u001b[1;32mexcept\u001b[0m \u001b[0mTypeError\u001b[0m\u001b[1;33m:\u001b[0m  \u001b[1;31m# Python 2.6 and older, Python 3\u001b[0m\u001b[1;33m\u001b[0m\u001b[0m\n",
      "\u001b[1;31mTypeError\u001b[0m: getresponse() got an unexpected keyword argument 'buffering'",
      "\nDuring handling of the above exception, another exception occurred:\n",
      "\u001b[1;31mKeyboardInterrupt\u001b[0m                         Traceback (most recent call last)",
      "\u001b[1;32m<ipython-input-21-843a0b8a1c76>\u001b[0m in \u001b[0;36m<module>\u001b[1;34m()\u001b[0m\n\u001b[0;32m      8\u001b[0m \u001b[1;33m\u001b[0m\u001b[0m\n\u001b[0;32m      9\u001b[0m \u001b[1;32mfor\u001b[0m \u001b[0mi\u001b[0m \u001b[1;32min\u001b[0m \u001b[0mnp\u001b[0m\u001b[1;33m.\u001b[0m\u001b[0marange\u001b[0m\u001b[1;33m(\u001b[0m\u001b[1;36m1\u001b[0m\u001b[1;33m,\u001b[0m \u001b[0musers\u001b[0m\u001b[1;33m.\u001b[0m\u001b[0mshape\u001b[0m\u001b[1;33m[\u001b[0m\u001b[1;36m0\u001b[0m\u001b[1;33m]\u001b[0m\u001b[1;33m)\u001b[0m\u001b[1;33m:\u001b[0m\u001b[1;33m\u001b[0m\u001b[0m\n\u001b[1;32m---> 10\u001b[1;33m     \u001b[0mfirebase\u001b[0m\u001b[1;33m.\u001b[0m\u001b[0mput\u001b[0m\u001b[1;33m(\u001b[0m\u001b[1;34m'/users2'\u001b[0m\u001b[1;33m,\u001b[0m \u001b[0mstr\u001b[0m\u001b[1;33m(\u001b[0m\u001b[0mi\u001b[0m\u001b[1;33m)\u001b[0m\u001b[1;33m,\u001b[0m \u001b[0mrec\u001b[0m\u001b[1;33m[\u001b[0m\u001b[0mi\u001b[0m\u001b[1;33m]\u001b[0m\u001b[1;33m)\u001b[0m\u001b[1;33m\u001b[0m\u001b[0m\n\u001b[0m\u001b[0;32m     11\u001b[0m \u001b[1;33m\u001b[0m\u001b[0m\n\u001b[0;32m     12\u001b[0m \u001b[1;31m# print(result3)\u001b[0m\u001b[1;33m\u001b[0m\u001b[1;33m\u001b[0m\u001b[0m\n",
      "\u001b[1;32m~\\Anaconda3\\lib\\site-packages\\firebase\\decorators.py\u001b[0m in \u001b[0;36mwrapped\u001b[1;34m(*args, **kwargs)\u001b[0m\n\u001b[0;32m     17\u001b[0m             \u001b[0mconnection\u001b[0m\u001b[1;33m.\u001b[0m\u001b[0mtimeout\u001b[0m \u001b[1;33m=\u001b[0m \u001b[0mtimeout\u001b[0m\u001b[1;33m\u001b[0m\u001b[0m\n\u001b[0;32m     18\u001b[0m             \u001b[0mconnection\u001b[0m\u001b[1;33m.\u001b[0m\u001b[0mheaders\u001b[0m\u001b[1;33m.\u001b[0m\u001b[0mupdate\u001b[0m\u001b[1;33m(\u001b[0m\u001b[1;33m{\u001b[0m\u001b[1;34m'Content-type'\u001b[0m\u001b[1;33m:\u001b[0m \u001b[1;34m'application/json'\u001b[0m\u001b[1;33m}\u001b[0m\u001b[1;33m)\u001b[0m\u001b[1;33m\u001b[0m\u001b[0m\n\u001b[1;32m---> 19\u001b[1;33m             \u001b[1;32mreturn\u001b[0m \u001b[0mf\u001b[0m\u001b[1;33m(\u001b[0m\u001b[1;33m*\u001b[0m\u001b[0margs\u001b[0m\u001b[1;33m,\u001b[0m \u001b[1;33m**\u001b[0m\u001b[0mkwargs\u001b[0m\u001b[1;33m)\u001b[0m\u001b[1;33m\u001b[0m\u001b[0m\n\u001b[0m\u001b[0;32m     20\u001b[0m         \u001b[1;32mreturn\u001b[0m \u001b[0mwraps\u001b[0m\u001b[1;33m(\u001b[0m\u001b[0mf\u001b[0m\u001b[1;33m)\u001b[0m\u001b[1;33m(\u001b[0m\u001b[0mwrapped\u001b[0m\u001b[1;33m)\u001b[0m\u001b[1;33m\u001b[0m\u001b[0m\n\u001b[0;32m     21\u001b[0m     \u001b[1;32mreturn\u001b[0m \u001b[0mwrapper\u001b[0m\u001b[1;33m\u001b[0m\u001b[0m\n",
      "\u001b[1;32m~\\Anaconda3\\lib\\site-packages\\firebase\\firebase.py\u001b[0m in \u001b[0;36mput\u001b[1;34m(self, url, name, data, connection, params, headers)\u001b[0m\n\u001b[0;32m    300\u001b[0m         \u001b[0mdata\u001b[0m \u001b[1;33m=\u001b[0m \u001b[0mjson\u001b[0m\u001b[1;33m.\u001b[0m\u001b[0mdumps\u001b[0m\u001b[1;33m(\u001b[0m\u001b[0mdata\u001b[0m\u001b[1;33m,\u001b[0m \u001b[0mcls\u001b[0m\u001b[1;33m=\u001b[0m\u001b[0mJSONEncoder\u001b[0m\u001b[1;33m)\u001b[0m\u001b[1;33m\u001b[0m\u001b[0m\n\u001b[0;32m    301\u001b[0m         return make_put_request(endpoint, data, params, headers,\n\u001b[1;32m--> 302\u001b[1;33m                                 connection=connection)\n\u001b[0m\u001b[0;32m    303\u001b[0m \u001b[1;33m\u001b[0m\u001b[0m\n\u001b[0;32m    304\u001b[0m     \u001b[1;32mdef\u001b[0m \u001b[0mput_async\u001b[0m\u001b[1;33m(\u001b[0m\u001b[0mself\u001b[0m\u001b[1;33m,\u001b[0m \u001b[0murl\u001b[0m\u001b[1;33m,\u001b[0m \u001b[0mname\u001b[0m\u001b[1;33m,\u001b[0m \u001b[0mdata\u001b[0m\u001b[1;33m,\u001b[0m \u001b[0mcallback\u001b[0m\u001b[1;33m=\u001b[0m\u001b[1;32mNone\u001b[0m\u001b[1;33m,\u001b[0m \u001b[0mparams\u001b[0m\u001b[1;33m=\u001b[0m\u001b[1;32mNone\u001b[0m\u001b[1;33m,\u001b[0m \u001b[0mheaders\u001b[0m\u001b[1;33m=\u001b[0m\u001b[1;32mNone\u001b[0m\u001b[1;33m)\u001b[0m\u001b[1;33m:\u001b[0m\u001b[1;33m\u001b[0m\u001b[0m\n",
      "\u001b[1;32m~\\Anaconda3\\lib\\site-packages\\firebase\\decorators.py\u001b[0m in \u001b[0;36mwrapped\u001b[1;34m(*args, **kwargs)\u001b[0m\n\u001b[0;32m     17\u001b[0m             \u001b[0mconnection\u001b[0m\u001b[1;33m.\u001b[0m\u001b[0mtimeout\u001b[0m \u001b[1;33m=\u001b[0m \u001b[0mtimeout\u001b[0m\u001b[1;33m\u001b[0m\u001b[0m\n\u001b[0;32m     18\u001b[0m             \u001b[0mconnection\u001b[0m\u001b[1;33m.\u001b[0m\u001b[0mheaders\u001b[0m\u001b[1;33m.\u001b[0m\u001b[0mupdate\u001b[0m\u001b[1;33m(\u001b[0m\u001b[1;33m{\u001b[0m\u001b[1;34m'Content-type'\u001b[0m\u001b[1;33m:\u001b[0m \u001b[1;34m'application/json'\u001b[0m\u001b[1;33m}\u001b[0m\u001b[1;33m)\u001b[0m\u001b[1;33m\u001b[0m\u001b[0m\n\u001b[1;32m---> 19\u001b[1;33m             \u001b[1;32mreturn\u001b[0m \u001b[0mf\u001b[0m\u001b[1;33m(\u001b[0m\u001b[1;33m*\u001b[0m\u001b[0margs\u001b[0m\u001b[1;33m,\u001b[0m \u001b[1;33m**\u001b[0m\u001b[0mkwargs\u001b[0m\u001b[1;33m)\u001b[0m\u001b[1;33m\u001b[0m\u001b[0m\n\u001b[0m\u001b[0;32m     20\u001b[0m         \u001b[1;32mreturn\u001b[0m \u001b[0mwraps\u001b[0m\u001b[1;33m(\u001b[0m\u001b[0mf\u001b[0m\u001b[1;33m)\u001b[0m\u001b[1;33m(\u001b[0m\u001b[0mwrapped\u001b[0m\u001b[1;33m)\u001b[0m\u001b[1;33m\u001b[0m\u001b[0m\n\u001b[0;32m     21\u001b[0m     \u001b[1;32mreturn\u001b[0m \u001b[0mwrapper\u001b[0m\u001b[1;33m\u001b[0m\u001b[0m\n",
      "\u001b[1;32m~\\Anaconda3\\lib\\site-packages\\firebase\\firebase.py\u001b[0m in \u001b[0;36mmake_put_request\u001b[1;34m(url, data, params, headers, connection)\u001b[0m\n\u001b[0;32m     66\u001b[0m     \u001b[0mtimeout\u001b[0m \u001b[1;33m=\u001b[0m \u001b[0mgetattr\u001b[0m\u001b[1;33m(\u001b[0m\u001b[0mconnection\u001b[0m\u001b[1;33m,\u001b[0m \u001b[1;34m'timeout'\u001b[0m\u001b[1;33m)\u001b[0m\u001b[1;33m\u001b[0m\u001b[0m\n\u001b[0;32m     67\u001b[0m     response = connection.put(url, data=data, params=params, headers=headers,\n\u001b[1;32m---> 68\u001b[1;33m                               timeout=timeout)\n\u001b[0m\u001b[0;32m     69\u001b[0m     \u001b[1;32mif\u001b[0m \u001b[0mresponse\u001b[0m\u001b[1;33m.\u001b[0m\u001b[0mok\u001b[0m \u001b[1;32mor\u001b[0m \u001b[0mresponse\u001b[0m\u001b[1;33m.\u001b[0m\u001b[0mstatus_code\u001b[0m \u001b[1;33m==\u001b[0m \u001b[1;36m403\u001b[0m\u001b[1;33m:\u001b[0m\u001b[1;33m\u001b[0m\u001b[0m\n\u001b[0;32m     70\u001b[0m         \u001b[1;32mreturn\u001b[0m \u001b[0mresponse\u001b[0m\u001b[1;33m.\u001b[0m\u001b[0mjson\u001b[0m\u001b[1;33m(\u001b[0m\u001b[1;33m)\u001b[0m \u001b[1;32mif\u001b[0m \u001b[0mresponse\u001b[0m\u001b[1;33m.\u001b[0m\u001b[0mcontent\u001b[0m \u001b[1;32melse\u001b[0m \u001b[1;32mNone\u001b[0m\u001b[1;33m\u001b[0m\u001b[0m\n",
      "\u001b[1;32m~\\Anaconda3\\lib\\site-packages\\requests\\sessions.py\u001b[0m in \u001b[0;36mput\u001b[1;34m(self, url, data, **kwargs)\u001b[0m\n\u001b[0;32m    531\u001b[0m         \"\"\"\n\u001b[0;32m    532\u001b[0m \u001b[1;33m\u001b[0m\u001b[0m\n\u001b[1;32m--> 533\u001b[1;33m         \u001b[1;32mreturn\u001b[0m \u001b[0mself\u001b[0m\u001b[1;33m.\u001b[0m\u001b[0mrequest\u001b[0m\u001b[1;33m(\u001b[0m\u001b[1;34m'PUT'\u001b[0m\u001b[1;33m,\u001b[0m \u001b[0murl\u001b[0m\u001b[1;33m,\u001b[0m \u001b[0mdata\u001b[0m\u001b[1;33m=\u001b[0m\u001b[0mdata\u001b[0m\u001b[1;33m,\u001b[0m \u001b[1;33m**\u001b[0m\u001b[0mkwargs\u001b[0m\u001b[1;33m)\u001b[0m\u001b[1;33m\u001b[0m\u001b[0m\n\u001b[0m\u001b[0;32m    534\u001b[0m \u001b[1;33m\u001b[0m\u001b[0m\n\u001b[0;32m    535\u001b[0m     \u001b[1;32mdef\u001b[0m \u001b[0mpatch\u001b[0m\u001b[1;33m(\u001b[0m\u001b[0mself\u001b[0m\u001b[1;33m,\u001b[0m \u001b[0murl\u001b[0m\u001b[1;33m,\u001b[0m \u001b[0mdata\u001b[0m\u001b[1;33m=\u001b[0m\u001b[1;32mNone\u001b[0m\u001b[1;33m,\u001b[0m \u001b[1;33m**\u001b[0m\u001b[0mkwargs\u001b[0m\u001b[1;33m)\u001b[0m\u001b[1;33m:\u001b[0m\u001b[1;33m\u001b[0m\u001b[0m\n",
      "\u001b[1;32m~\\Anaconda3\\lib\\site-packages\\requests\\sessions.py\u001b[0m in \u001b[0;36mrequest\u001b[1;34m(self, method, url, params, data, headers, cookies, files, auth, timeout, allow_redirects, proxies, hooks, stream, verify, cert, json)\u001b[0m\n\u001b[0;32m    473\u001b[0m         }\n\u001b[0;32m    474\u001b[0m         \u001b[0msend_kwargs\u001b[0m\u001b[1;33m.\u001b[0m\u001b[0mupdate\u001b[0m\u001b[1;33m(\u001b[0m\u001b[0msettings\u001b[0m\u001b[1;33m)\u001b[0m\u001b[1;33m\u001b[0m\u001b[0m\n\u001b[1;32m--> 475\u001b[1;33m         \u001b[0mresp\u001b[0m \u001b[1;33m=\u001b[0m \u001b[0mself\u001b[0m\u001b[1;33m.\u001b[0m\u001b[0msend\u001b[0m\u001b[1;33m(\u001b[0m\u001b[0mprep\u001b[0m\u001b[1;33m,\u001b[0m \u001b[1;33m**\u001b[0m\u001b[0msend_kwargs\u001b[0m\u001b[1;33m)\u001b[0m\u001b[1;33m\u001b[0m\u001b[0m\n\u001b[0m\u001b[0;32m    476\u001b[0m \u001b[1;33m\u001b[0m\u001b[0m\n\u001b[0;32m    477\u001b[0m         \u001b[1;32mreturn\u001b[0m \u001b[0mresp\u001b[0m\u001b[1;33m\u001b[0m\u001b[0m\n",
      "\u001b[1;32m~\\Anaconda3\\lib\\site-packages\\requests\\sessions.py\u001b[0m in \u001b[0;36msend\u001b[1;34m(self, request, **kwargs)\u001b[0m\n\u001b[0;32m    594\u001b[0m \u001b[1;33m\u001b[0m\u001b[0m\n\u001b[0;32m    595\u001b[0m         \u001b[1;31m# Send the request\u001b[0m\u001b[1;33m\u001b[0m\u001b[1;33m\u001b[0m\u001b[0m\n\u001b[1;32m--> 596\u001b[1;33m         \u001b[0mr\u001b[0m \u001b[1;33m=\u001b[0m \u001b[0madapter\u001b[0m\u001b[1;33m.\u001b[0m\u001b[0msend\u001b[0m\u001b[1;33m(\u001b[0m\u001b[0mrequest\u001b[0m\u001b[1;33m,\u001b[0m \u001b[1;33m**\u001b[0m\u001b[0mkwargs\u001b[0m\u001b[1;33m)\u001b[0m\u001b[1;33m\u001b[0m\u001b[0m\n\u001b[0m\u001b[0;32m    597\u001b[0m \u001b[1;33m\u001b[0m\u001b[0m\n\u001b[0;32m    598\u001b[0m         \u001b[1;31m# Total elapsed time of the request (approximately)\u001b[0m\u001b[1;33m\u001b[0m\u001b[1;33m\u001b[0m\u001b[0m\n",
      "\u001b[1;32m~\\Anaconda3\\lib\\site-packages\\requests\\adapters.py\u001b[0m in \u001b[0;36msend\u001b[1;34m(self, request, stream, timeout, verify, cert, proxies)\u001b[0m\n\u001b[0;32m    421\u001b[0m                     \u001b[0mdecode_content\u001b[0m\u001b[1;33m=\u001b[0m\u001b[1;32mFalse\u001b[0m\u001b[1;33m,\u001b[0m\u001b[1;33m\u001b[0m\u001b[0m\n\u001b[0;32m    422\u001b[0m                     \u001b[0mretries\u001b[0m\u001b[1;33m=\u001b[0m\u001b[0mself\u001b[0m\u001b[1;33m.\u001b[0m\u001b[0mmax_retries\u001b[0m\u001b[1;33m,\u001b[0m\u001b[1;33m\u001b[0m\u001b[0m\n\u001b[1;32m--> 423\u001b[1;33m                     \u001b[0mtimeout\u001b[0m\u001b[1;33m=\u001b[0m\u001b[0mtimeout\u001b[0m\u001b[1;33m\u001b[0m\u001b[0m\n\u001b[0m\u001b[0;32m    424\u001b[0m                 )\n\u001b[0;32m    425\u001b[0m \u001b[1;33m\u001b[0m\u001b[0m\n",
      "\u001b[1;32m~\\Anaconda3\\lib\\site-packages\\requests\\packages\\urllib3\\connectionpool.py\u001b[0m in \u001b[0;36murlopen\u001b[1;34m(self, method, url, body, headers, retries, redirect, assert_same_host, timeout, pool_timeout, release_conn, chunked, **response_kw)\u001b[0m\n\u001b[0;32m    593\u001b[0m                                                   \u001b[0mtimeout\u001b[0m\u001b[1;33m=\u001b[0m\u001b[0mtimeout_obj\u001b[0m\u001b[1;33m,\u001b[0m\u001b[1;33m\u001b[0m\u001b[0m\n\u001b[0;32m    594\u001b[0m                                                   \u001b[0mbody\u001b[0m\u001b[1;33m=\u001b[0m\u001b[0mbody\u001b[0m\u001b[1;33m,\u001b[0m \u001b[0mheaders\u001b[0m\u001b[1;33m=\u001b[0m\u001b[0mheaders\u001b[0m\u001b[1;33m,\u001b[0m\u001b[1;33m\u001b[0m\u001b[0m\n\u001b[1;32m--> 595\u001b[1;33m                                                   chunked=chunked)\n\u001b[0m\u001b[0;32m    596\u001b[0m \u001b[1;33m\u001b[0m\u001b[0m\n\u001b[0;32m    597\u001b[0m             \u001b[1;31m# If we're going to release the connection in ``finally:``, then\u001b[0m\u001b[1;33m\u001b[0m\u001b[1;33m\u001b[0m\u001b[0m\n",
      "\u001b[1;32m~\\Anaconda3\\lib\\site-packages\\requests\\packages\\urllib3\\connectionpool.py\u001b[0m in \u001b[0;36m_make_request\u001b[1;34m(self, conn, method, url, timeout, chunked, **httplib_request_kw)\u001b[0m\n\u001b[0;32m    387\u001b[0m             \u001b[1;32mexcept\u001b[0m \u001b[0mTypeError\u001b[0m\u001b[1;33m:\u001b[0m  \u001b[1;31m# Python 2.6 and older, Python 3\u001b[0m\u001b[1;33m\u001b[0m\u001b[0m\n\u001b[0;32m    388\u001b[0m                 \u001b[1;32mtry\u001b[0m\u001b[1;33m:\u001b[0m\u001b[1;33m\u001b[0m\u001b[0m\n\u001b[1;32m--> 389\u001b[1;33m                     \u001b[0mhttplib_response\u001b[0m \u001b[1;33m=\u001b[0m \u001b[0mconn\u001b[0m\u001b[1;33m.\u001b[0m\u001b[0mgetresponse\u001b[0m\u001b[1;33m(\u001b[0m\u001b[1;33m)\u001b[0m\u001b[1;33m\u001b[0m\u001b[0m\n\u001b[0m\u001b[0;32m    390\u001b[0m                 \u001b[1;32mexcept\u001b[0m \u001b[0mException\u001b[0m \u001b[1;32mas\u001b[0m \u001b[0me\u001b[0m\u001b[1;33m:\u001b[0m\u001b[1;33m\u001b[0m\u001b[0m\n\u001b[0;32m    391\u001b[0m                     \u001b[1;31m# Remove the TypeError from the exception chain in Python 3;\u001b[0m\u001b[1;33m\u001b[0m\u001b[1;33m\u001b[0m\u001b[0m\n",
      "\u001b[1;32m~\\Anaconda3\\lib\\http\\client.py\u001b[0m in \u001b[0;36mgetresponse\u001b[1;34m(self)\u001b[0m\n\u001b[0;32m   1329\u001b[0m         \u001b[1;32mtry\u001b[0m\u001b[1;33m:\u001b[0m\u001b[1;33m\u001b[0m\u001b[0m\n\u001b[0;32m   1330\u001b[0m             \u001b[1;32mtry\u001b[0m\u001b[1;33m:\u001b[0m\u001b[1;33m\u001b[0m\u001b[0m\n\u001b[1;32m-> 1331\u001b[1;33m                 \u001b[0mresponse\u001b[0m\u001b[1;33m.\u001b[0m\u001b[0mbegin\u001b[0m\u001b[1;33m(\u001b[0m\u001b[1;33m)\u001b[0m\u001b[1;33m\u001b[0m\u001b[0m\n\u001b[0m\u001b[0;32m   1332\u001b[0m             \u001b[1;32mexcept\u001b[0m \u001b[0mConnectionError\u001b[0m\u001b[1;33m:\u001b[0m\u001b[1;33m\u001b[0m\u001b[0m\n\u001b[0;32m   1333\u001b[0m                 \u001b[0mself\u001b[0m\u001b[1;33m.\u001b[0m\u001b[0mclose\u001b[0m\u001b[1;33m(\u001b[0m\u001b[1;33m)\u001b[0m\u001b[1;33m\u001b[0m\u001b[0m\n",
      "\u001b[1;32m~\\Anaconda3\\lib\\http\\client.py\u001b[0m in \u001b[0;36mbegin\u001b[1;34m(self)\u001b[0m\n\u001b[0;32m    295\u001b[0m         \u001b[1;31m# read until we get a non-100 response\u001b[0m\u001b[1;33m\u001b[0m\u001b[1;33m\u001b[0m\u001b[0m\n\u001b[0;32m    296\u001b[0m         \u001b[1;32mwhile\u001b[0m \u001b[1;32mTrue\u001b[0m\u001b[1;33m:\u001b[0m\u001b[1;33m\u001b[0m\u001b[0m\n\u001b[1;32m--> 297\u001b[1;33m             \u001b[0mversion\u001b[0m\u001b[1;33m,\u001b[0m \u001b[0mstatus\u001b[0m\u001b[1;33m,\u001b[0m \u001b[0mreason\u001b[0m \u001b[1;33m=\u001b[0m \u001b[0mself\u001b[0m\u001b[1;33m.\u001b[0m\u001b[0m_read_status\u001b[0m\u001b[1;33m(\u001b[0m\u001b[1;33m)\u001b[0m\u001b[1;33m\u001b[0m\u001b[0m\n\u001b[0m\u001b[0;32m    298\u001b[0m             \u001b[1;32mif\u001b[0m \u001b[0mstatus\u001b[0m \u001b[1;33m!=\u001b[0m \u001b[0mCONTINUE\u001b[0m\u001b[1;33m:\u001b[0m\u001b[1;33m\u001b[0m\u001b[0m\n\u001b[0;32m    299\u001b[0m                 \u001b[1;32mbreak\u001b[0m\u001b[1;33m\u001b[0m\u001b[0m\n",
      "\u001b[1;32m~\\Anaconda3\\lib\\http\\client.py\u001b[0m in \u001b[0;36m_read_status\u001b[1;34m(self)\u001b[0m\n\u001b[0;32m    256\u001b[0m \u001b[1;33m\u001b[0m\u001b[0m\n\u001b[0;32m    257\u001b[0m     \u001b[1;32mdef\u001b[0m \u001b[0m_read_status\u001b[0m\u001b[1;33m(\u001b[0m\u001b[0mself\u001b[0m\u001b[1;33m)\u001b[0m\u001b[1;33m:\u001b[0m\u001b[1;33m\u001b[0m\u001b[0m\n\u001b[1;32m--> 258\u001b[1;33m         \u001b[0mline\u001b[0m \u001b[1;33m=\u001b[0m \u001b[0mstr\u001b[0m\u001b[1;33m(\u001b[0m\u001b[0mself\u001b[0m\u001b[1;33m.\u001b[0m\u001b[0mfp\u001b[0m\u001b[1;33m.\u001b[0m\u001b[0mreadline\u001b[0m\u001b[1;33m(\u001b[0m\u001b[0m_MAXLINE\u001b[0m \u001b[1;33m+\u001b[0m \u001b[1;36m1\u001b[0m\u001b[1;33m)\u001b[0m\u001b[1;33m,\u001b[0m \u001b[1;34m\"iso-8859-1\"\u001b[0m\u001b[1;33m)\u001b[0m\u001b[1;33m\u001b[0m\u001b[0m\n\u001b[0m\u001b[0;32m    259\u001b[0m         \u001b[1;32mif\u001b[0m \u001b[0mlen\u001b[0m\u001b[1;33m(\u001b[0m\u001b[0mline\u001b[0m\u001b[1;33m)\u001b[0m \u001b[1;33m>\u001b[0m \u001b[0m_MAXLINE\u001b[0m\u001b[1;33m:\u001b[0m\u001b[1;33m\u001b[0m\u001b[0m\n\u001b[0;32m    260\u001b[0m             \u001b[1;32mraise\u001b[0m \u001b[0mLineTooLong\u001b[0m\u001b[1;33m(\u001b[0m\u001b[1;34m\"status line\"\u001b[0m\u001b[1;33m)\u001b[0m\u001b[1;33m\u001b[0m\u001b[0m\n",
      "\u001b[1;32m~\\Anaconda3\\lib\\socket.py\u001b[0m in \u001b[0;36mreadinto\u001b[1;34m(self, b)\u001b[0m\n\u001b[0;32m    584\u001b[0m         \u001b[1;32mwhile\u001b[0m \u001b[1;32mTrue\u001b[0m\u001b[1;33m:\u001b[0m\u001b[1;33m\u001b[0m\u001b[0m\n\u001b[0;32m    585\u001b[0m             \u001b[1;32mtry\u001b[0m\u001b[1;33m:\u001b[0m\u001b[1;33m\u001b[0m\u001b[0m\n\u001b[1;32m--> 586\u001b[1;33m                 \u001b[1;32mreturn\u001b[0m \u001b[0mself\u001b[0m\u001b[1;33m.\u001b[0m\u001b[0m_sock\u001b[0m\u001b[1;33m.\u001b[0m\u001b[0mrecv_into\u001b[0m\u001b[1;33m(\u001b[0m\u001b[0mb\u001b[0m\u001b[1;33m)\u001b[0m\u001b[1;33m\u001b[0m\u001b[0m\n\u001b[0m\u001b[0;32m    587\u001b[0m             \u001b[1;32mexcept\u001b[0m \u001b[0mtimeout\u001b[0m\u001b[1;33m:\u001b[0m\u001b[1;33m\u001b[0m\u001b[0m\n\u001b[0;32m    588\u001b[0m                 \u001b[0mself\u001b[0m\u001b[1;33m.\u001b[0m\u001b[0m_timeout_occurred\u001b[0m \u001b[1;33m=\u001b[0m \u001b[1;32mTrue\u001b[0m\u001b[1;33m\u001b[0m\u001b[0m\n",
      "\u001b[1;32m~\\Anaconda3\\lib\\ssl.py\u001b[0m in \u001b[0;36mrecv_into\u001b[1;34m(self, buffer, nbytes, flags)\u001b[0m\n\u001b[0;32m   1007\u001b[0m                   \u001b[1;34m\"non-zero flags not allowed in calls to recv_into() on %s\"\u001b[0m \u001b[1;33m%\u001b[0m\u001b[1;33m\u001b[0m\u001b[0m\n\u001b[0;32m   1008\u001b[0m                   self.__class__)\n\u001b[1;32m-> 1009\u001b[1;33m             \u001b[1;32mreturn\u001b[0m \u001b[0mself\u001b[0m\u001b[1;33m.\u001b[0m\u001b[0mread\u001b[0m\u001b[1;33m(\u001b[0m\u001b[0mnbytes\u001b[0m\u001b[1;33m,\u001b[0m \u001b[0mbuffer\u001b[0m\u001b[1;33m)\u001b[0m\u001b[1;33m\u001b[0m\u001b[0m\n\u001b[0m\u001b[0;32m   1010\u001b[0m         \u001b[1;32melse\u001b[0m\u001b[1;33m:\u001b[0m\u001b[1;33m\u001b[0m\u001b[0m\n\u001b[0;32m   1011\u001b[0m             \u001b[1;32mreturn\u001b[0m \u001b[0msocket\u001b[0m\u001b[1;33m.\u001b[0m\u001b[0mrecv_into\u001b[0m\u001b[1;33m(\u001b[0m\u001b[0mself\u001b[0m\u001b[1;33m,\u001b[0m \u001b[0mbuffer\u001b[0m\u001b[1;33m,\u001b[0m \u001b[0mnbytes\u001b[0m\u001b[1;33m,\u001b[0m \u001b[0mflags\u001b[0m\u001b[1;33m)\u001b[0m\u001b[1;33m\u001b[0m\u001b[0m\n",
      "\u001b[1;32m~\\Anaconda3\\lib\\ssl.py\u001b[0m in \u001b[0;36mread\u001b[1;34m(self, len, buffer)\u001b[0m\n\u001b[0;32m    869\u001b[0m             \u001b[1;32mraise\u001b[0m \u001b[0mValueError\u001b[0m\u001b[1;33m(\u001b[0m\u001b[1;34m\"Read on closed or unwrapped SSL socket.\"\u001b[0m\u001b[1;33m)\u001b[0m\u001b[1;33m\u001b[0m\u001b[0m\n\u001b[0;32m    870\u001b[0m         \u001b[1;32mtry\u001b[0m\u001b[1;33m:\u001b[0m\u001b[1;33m\u001b[0m\u001b[0m\n\u001b[1;32m--> 871\u001b[1;33m             \u001b[1;32mreturn\u001b[0m \u001b[0mself\u001b[0m\u001b[1;33m.\u001b[0m\u001b[0m_sslobj\u001b[0m\u001b[1;33m.\u001b[0m\u001b[0mread\u001b[0m\u001b[1;33m(\u001b[0m\u001b[0mlen\u001b[0m\u001b[1;33m,\u001b[0m \u001b[0mbuffer\u001b[0m\u001b[1;33m)\u001b[0m\u001b[1;33m\u001b[0m\u001b[0m\n\u001b[0m\u001b[0;32m    872\u001b[0m         \u001b[1;32mexcept\u001b[0m \u001b[0mSSLError\u001b[0m \u001b[1;32mas\u001b[0m \u001b[0mx\u001b[0m\u001b[1;33m:\u001b[0m\u001b[1;33m\u001b[0m\u001b[0m\n\u001b[0;32m    873\u001b[0m             \u001b[1;32mif\u001b[0m \u001b[0mx\u001b[0m\u001b[1;33m.\u001b[0m\u001b[0margs\u001b[0m\u001b[1;33m[\u001b[0m\u001b[1;36m0\u001b[0m\u001b[1;33m]\u001b[0m \u001b[1;33m==\u001b[0m \u001b[0mSSL_ERROR_EOF\u001b[0m \u001b[1;32mand\u001b[0m \u001b[0mself\u001b[0m\u001b[1;33m.\u001b[0m\u001b[0msuppress_ragged_eofs\u001b[0m\u001b[1;33m:\u001b[0m\u001b[1;33m\u001b[0m\u001b[0m\n",
      "\u001b[1;32m~\\Anaconda3\\lib\\ssl.py\u001b[0m in \u001b[0;36mread\u001b[1;34m(self, len, buffer)\u001b[0m\n\u001b[0;32m    629\u001b[0m         \"\"\"\n\u001b[0;32m    630\u001b[0m         \u001b[1;32mif\u001b[0m \u001b[0mbuffer\u001b[0m \u001b[1;32mis\u001b[0m \u001b[1;32mnot\u001b[0m \u001b[1;32mNone\u001b[0m\u001b[1;33m:\u001b[0m\u001b[1;33m\u001b[0m\u001b[0m\n\u001b[1;32m--> 631\u001b[1;33m             \u001b[0mv\u001b[0m \u001b[1;33m=\u001b[0m \u001b[0mself\u001b[0m\u001b[1;33m.\u001b[0m\u001b[0m_sslobj\u001b[0m\u001b[1;33m.\u001b[0m\u001b[0mread\u001b[0m\u001b[1;33m(\u001b[0m\u001b[0mlen\u001b[0m\u001b[1;33m,\u001b[0m \u001b[0mbuffer\u001b[0m\u001b[1;33m)\u001b[0m\u001b[1;33m\u001b[0m\u001b[0m\n\u001b[0m\u001b[0;32m    632\u001b[0m         \u001b[1;32melse\u001b[0m\u001b[1;33m:\u001b[0m\u001b[1;33m\u001b[0m\u001b[0m\n\u001b[0;32m    633\u001b[0m             \u001b[0mv\u001b[0m \u001b[1;33m=\u001b[0m \u001b[0mself\u001b[0m\u001b[1;33m.\u001b[0m\u001b[0m_sslobj\u001b[0m\u001b[1;33m.\u001b[0m\u001b[0mread\u001b[0m\u001b[1;33m(\u001b[0m\u001b[0mlen\u001b[0m\u001b[1;33m)\u001b[0m\u001b[1;33m\u001b[0m\u001b[0m\n",
      "\u001b[1;31mKeyboardInterrupt\u001b[0m: "
     ]
    }
   ],
   "source": [
    "from firebase import firebase\n",
    "import requests\n",
    "firebase = firebase.FirebaseApplication(\"https://fir-trial-4c092.firebaseio.com\")\n",
    "rec = []\n",
    "\n",
    "for i in np.arange(1, users.shape[0]):\n",
    "    rec.append(str(sample_recommendation(model, data, np.linspace(i,1))))\n",
    "    \n",
    "for i in np.arange(1, users.shape[0]):\n",
    "    firebase.put('/users2', str(i), rec[i])\n",
    "\n",
    "# print(result3)"
   ]
  },
  {
   "cell_type": "code",
   "execution_count": null,
   "metadata": {
    "collapsed": true
   },
   "outputs": [],
   "source": []
  }
 ],
 "metadata": {
  "kernelspec": {
   "display_name": "Python 3",
   "language": "python",
   "name": "python3"
  },
  "language_info": {
   "codemirror_mode": {
    "name": "ipython",
    "version": 3
   },
   "file_extension": ".py",
   "mimetype": "text/x-python",
   "name": "python",
   "nbconvert_exporter": "python",
   "pygments_lexer": "ipython3",
   "version": "3.6.3"
  }
 },
 "nbformat": 4,
 "nbformat_minor": 2
}
